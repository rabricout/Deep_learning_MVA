{
 "cells": [
  {
   "cell_type": "markdown",
   "metadata": {},
   "source": [
    "**You may need to install [OpenCV](https://pypi.python.org/pypi/opencv-python) and [scikit-video](http://www.scikit-video.org/stable/).**"
   ]
  },
  {
   "cell_type": "code",
   "execution_count": 1,
   "metadata": {},
   "outputs": [
    {
     "name": "stderr",
     "output_type": "stream",
     "text": [
      "Using TensorFlow backend.\n"
     ]
    }
   ],
   "source": [
    "import keras\n",
    "import numpy as np\n",
    "import io\n",
    "import base64\n",
    "from IPython.display import HTML\n",
    "import skvideo.io\n",
    "import cv2\n",
    "import json\n",
    "\n",
    "from keras.models import Sequential,model_from_json\n",
    "from keras.layers.core import Dense\n",
    "from keras.optimizers import sgd, Adam\n",
    "from keras.layers import Conv2D, MaxPooling2D, Activation, AveragePooling2D,Reshape,BatchNormalization, Flatten, Dropout"
   ]
  },
  {
   "cell_type": "markdown",
   "metadata": {},
   "source": [
    "# MiniProject #3: Deep Reinforcement Learning"
   ]
  },
  {
   "cell_type": "markdown",
   "metadata": {},
   "source": [
    "__Notations__: $E_p$ is the expectation under probability $p$. Please justify each of your answer and widely comment your code."
   ]
  },
  {
   "cell_type": "markdown",
   "metadata": {},
   "source": [
    "# Context"
   ]
  },
  {
   "cell_type": "markdown",
   "metadata": {},
   "source": [
    "In a reinforcement learning algorithm, we modelize each step $t$ as an action $a_t$ obtained from a state $s_t$, i.e. $\\{(a_{t},s_{t})_{t\\leq T}\\}$ having the Markov property. We consider a discount factor $\\gamma \\in [0,1]$ that ensures convergence. The goal is to find among all the policies $\\pi$, one that maximizes the expected reward:\n",
    "\n",
    "\\begin{equation*}\n",
    "R(\\pi)=\\sum_{t\\leq T}E_{p^{\\pi}}[\\gamma^t r(s_{t},a_{t})] \\> ,\n",
    "\\end{equation*}\n",
    "\n",
    "where: \n",
    "\\begin{equation*}p^{\\pi}(a_{0},a_{1},s_{1},...,a_{T},s_{T})=p(a_{0})\\prod_{t=1}^{T}\\pi(a_{t}|s_{t})p(s_{t+1}|s_{t},a_{t}) \\> .\n",
    "\\end{equation*}\n",
    "\n",
    "We note the $Q$-function:\n",
    "\n",
    "\\begin{equation*}Q^\\pi(s,a)=E_{p^{\\pi}}[\\sum_{t\\leq T}\\gamma^{t}r(s_{t},a_{t})|s_{0}=s,a_{0}=a] \\> .\n",
    "\\end{equation*}\n",
    "\n",
    "Thus, the optimal Q function is:\n",
    "\\begin{equation*}\n",
    "Q^*(s,a)=\\max_{\\pi}Q^\\pi(s,a) \\> .\n",
    "\\end{equation*}\n",
    "\n",
    "In this project, we will apply the deep reinforcement learning techniques to a simple game: an agent will have to learn from scratch a policy that will permit it maximizing a reward."
   ]
  },
  {
   "cell_type": "markdown",
   "metadata": {},
   "source": [
    "## The environment, the agent and the game"
   ]
  },
  {
   "cell_type": "markdown",
   "metadata": {},
   "source": [
    "### The environment"
   ]
  },
  {
   "cell_type": "markdown",
   "metadata": {},
   "source": [
    "```Environment``` is an abstract class that represents the states, rewards, and actions to obtain the new state."
   ]
  },
  {
   "cell_type": "code",
   "execution_count": 2,
   "metadata": {},
   "outputs": [],
   "source": [
    "class Environment(object):\n",
    "    def __init__(self):\n",
    "        pass\n",
    "\n",
    "    def act(self, act):\n",
    "        \"\"\"\n",
    "        One can act on the environment and obtain its reaction:\n",
    "        - the new state\n",
    "        - the reward of the new state\n",
    "        - should we continue the game?\n",
    "\n",
    "        :return: state, reward, game_over\n",
    "        \"\"\"\n",
    "        pass\n",
    "\n",
    "\n",
    "    def reset(self):\n",
    "        \"\"\"\n",
    "        Reinitialize the environment to a random state and returns\n",
    "        the original state\n",
    "\n",
    "        :return: state\n",
    "        \"\"\"\n",
    "        pass\n",
    "    \n",
    "    def draw(self):\n",
    "        \"\"\"\n",
    "        Visualize in the console or graphically the current state\n",
    "        \"\"\"\n",
    "        pass"
   ]
  },
  {
   "cell_type": "markdown",
   "metadata": {},
   "source": [
    "The method ```act``` allows to act on the environment at a given state $s_t$ (stored internally), via action $a_t$. The method will return the new state $s_{t+1}$, the reward $r(s_{t},a_{t})$ and determines if $t\\leq T$ (*game_over*).\n",
    "\n",
    "The method ```reset``` simply reinitializes the environment to a random state $s_0$.\n",
    "\n",
    "The method ```draw``` displays the current state $s_t$ (this is useful to check the behavior of the Agent).\n",
    "\n",
    "We modelize $s_t$ as a tensor, while $a_t$ is an integer."
   ]
  },
  {
   "cell_type": "markdown",
   "metadata": {},
   "source": [
    "### The Agent"
   ]
  },
  {
   "cell_type": "markdown",
   "metadata": {},
   "source": [
    "The goal of the ```Agent``` is to interact with the ```Environment``` by proposing actions $a_t$ obtained from a given state $s_t$ to attempt to maximize its __reward__ $r(s_t,a_t)$. We propose the following abstract class:"
   ]
  },
  {
   "cell_type": "code",
   "execution_count": 3,
   "metadata": {},
   "outputs": [],
   "source": [
    "class Agent(object):\n",
    "    def __init__(self, epsilon=0.1, n_action=4):\n",
    "        self.epsilon = epsilon\n",
    "        self.n_action = n_action\n",
    "    \n",
    "    def set_epsilon(self,e):\n",
    "        self.epsilon = e\n",
    "\n",
    "    def act(self,s,train=True):\n",
    "        \"\"\" This function should return the next action to do:\n",
    "        an integer between 0 and 4 (not included) with a random exploration of epsilon\"\"\"\n",
    "        if train:\n",
    "            if np.random.rand() <= self.epsilon:\n",
    "                a = np.random.randint(0, self.n_action, size=1)[0]\n",
    "            else:\n",
    "                a = self.learned_act(s)\n",
    "        else: # in some cases, this can improve the performance.. remove it if poor performances\n",
    "            a = self.learned_act(s)\n",
    "\n",
    "        return np.argmax(a)\n",
    "\n",
    "    def learned_act(self,s):\n",
    "        \"\"\" Act via the policy of the agent, from a given state s\n",
    "        it proposes an action a\"\"\"\n",
    "        pass\n",
    "\n",
    "    def reinforce(self, s, n_s, a, r, game_over_):\n",
    "        \"\"\" This function is the core of the learning algorithm. \n",
    "        It takes as an input the current state s_, the next state n_s_\n",
    "        the action a_ used to move from s_ to n_s_ and the reward r_.\n",
    "        \n",
    "        Its goal is to learn a policy.\n",
    "        \"\"\"\n",
    "        pass\n",
    "\n",
    "    def save(self):\n",
    "        \"\"\" This function returns basic stats if applicable: the\n",
    "        loss and/or the model\"\"\"\n",
    "        pass\n",
    "\n",
    "    def load(self):\n",
    "        \"\"\" This function allows to restore a model\"\"\"\n",
    "        pass"
   ]
  },
  {
   "cell_type": "markdown",
   "metadata": {},
   "source": [
    "***\n",
    "__Question 1__:\n",
    "Explain the function act. Why is ```epsilon``` essential?"
   ]
  },
  {
   "cell_type": "markdown",
   "metadata": {},
   "source": [
    "$\\epsilon$ is essential to have a balance between two things: \n",
    " - use the learned rules and get better results\n",
    " - continue to explore new things and get new strategies\n",
    "\n",
    "If we do only one of these two things, we cannot improve the model."
   ]
  },
  {
   "cell_type": "markdown",
   "metadata": {},
   "source": [
    "***\n",
    "### The Game"
   ]
  },
  {
   "cell_type": "markdown",
   "metadata": {},
   "source": [
    "The ```Agent``` and the ```Environment``` work in an interlaced way as in the following (take some time to understand this code as it is the core of the project)\n",
    "\n",
    "```python\n",
    "\n",
    "epoch = 300\n",
    "env = Environment()\n",
    "agent = Agent()\n",
    "\n",
    "\n",
    "# Number of won games\n",
    "score = 0\n",
    "loss = 0\n",
    "\n",
    "\n",
    "for e in range(epoch):\n",
    "    # At each epoch, we restart to a fresh game and get the initial state\n",
    "    state = env.reset()\n",
    "    # This assumes that the games will end\n",
    "    game_over = False\n",
    "\n",
    "    win = 0\n",
    "    lose = 0\n",
    "    \n",
    "    while not game_over:\n",
    "        # The agent performs an action\n",
    "        action = agent.act(state)\n",
    "\n",
    "        # Apply an action to the environment, get the next state, the reward\n",
    "        # and if the games end\n",
    "        prev_state = state\n",
    "        state, reward, game_over = env.act(action)\n",
    "\n",
    "        # Update the counters\n",
    "        if reward > 0:\n",
    "            win = win + reward\n",
    "        if reward < 0:\n",
    "            lose = lose -reward\n",
    "\n",
    "        # Apply the reinforcement strategy\n",
    "        loss = agent.reinforce(prev_state, state,  action, reward, game_over)\n",
    "\n",
    "    # Save as a mp4\n",
    "    if e % 10 == 0:\n",
    "        env.draw(e)\n",
    "\n",
    "    # Update stats\n",
    "    score += win-lose\n",
    "\n",
    "    print(\"Epoch {:03d}/{:03d} | Loss {:.4f} | Win/lose count {}/{} ({})\"\n",
    "          .format(e, epoch, loss, win, lose, win-lose))\n",
    "    agent.save()\n",
    "```"
   ]
  },
  {
   "cell_type": "markdown",
   "metadata": {},
   "source": [
    "# The game, *eat cheese*"
   ]
  },
  {
   "cell_type": "markdown",
   "metadata": {},
   "source": [
    "A rat runs on an island and tries to eat as much as possible. The island is subdivided into $N\\times N$ cells, in which there are cheese (+0.5) and poisonous cells (-1). The rat has a visibility of 2 cells (thus it can see $5^2$ cells). The rat is given a time $T$ to accumulate as much food as possible. It can perform 4 actions: going up, down, left, right. \n",
    "\n",
    "The goal is to code an agent to solve this task that will learn by trial and error. We propose the following environment:"
   ]
  },
  {
   "cell_type": "code",
   "execution_count": 4,
   "metadata": {},
   "outputs": [],
   "source": [
    "class Environment(object):\n",
    "    def __init__(self, grid_size=10, max_time=500, temperature=0.1):\n",
    "        grid_size = grid_size+4\n",
    "        self.grid_size = grid_size\n",
    "        self.max_time = max_time\n",
    "        self.temperature = temperature\n",
    "\n",
    "        #board on which one plays\n",
    "        self.board = np.zeros((grid_size,grid_size))\n",
    "        self.position = np.zeros((grid_size,grid_size))\n",
    "\n",
    "        # coordinate of the cat (mouse?)\n",
    "        self.x = 0\n",
    "        self.y = 1\n",
    "\n",
    "        # self time\n",
    "        self.t = 0\n",
    "\n",
    "        self.scale=16\n",
    "\n",
    "        self.to_draw = np.zeros((max_time+2, grid_size*self.scale, grid_size*self.scale, 3))\n",
    "\n",
    "\n",
    "    def draw(self,e):\n",
    "        skvideo.io.vwrite(str(e) + '.mp4', self.to_draw)\n",
    "\n",
    "    def get_frame(self,t):\n",
    "        b = np.zeros((self.grid_size,self.grid_size,3))+128\n",
    "        b[self.board>0,0] = 256\n",
    "        b[self.board < 0, 2] = 256\n",
    "        b[self.x,self.y,:]=256\n",
    "        b[-2:,:,:]=0\n",
    "        b[:,-2:,:]=0\n",
    "        b[:2,:,:]=0\n",
    "        b[:,:2,:]=0\n",
    "        \n",
    "        b =  cv2.resize(b, None, fx=self.scale, fy=self.scale, interpolation=cv2.INTER_NEAREST)\n",
    "\n",
    "        self.to_draw[t,:,:,:]=b\n",
    "\n",
    "\n",
    "    def act(self, action):\n",
    "        \"\"\"This function returns the new state, reward and decides if the\n",
    "        game ends.\"\"\"\n",
    "\n",
    "        self.get_frame(int(self.t))\n",
    "\n",
    "        self.position = np.zeros((self.grid_size, self.grid_size))\n",
    "\n",
    "        self.position[0:2,:]= -1\n",
    "        self.position[:,0:2] = -1\n",
    "        self.position[-2:, :] = -1\n",
    "        self.position[-2:, :] = -1\n",
    "\n",
    "        self.position[self.x, self.y] = 1\n",
    "        if action == 0:\n",
    "            if self.x == self.grid_size-3:\n",
    "                self.x = self.x-1\n",
    "            else:\n",
    "                self.x = self.x + 1\n",
    "        elif action == 1:\n",
    "            if self.x == 2:\n",
    "                self.x = self.x+1\n",
    "            else:\n",
    "                self.x = self.x-1\n",
    "        elif action == 2:\n",
    "            if self.y == self.grid_size - 3:\n",
    "                self.y = self.y - 1\n",
    "            else:\n",
    "                self.y = self.y + 1\n",
    "        elif action == 3:\n",
    "            if self.y == 2:\n",
    "                self.y = self.y + 1\n",
    "            else:\n",
    "                self.y = self.y - 1\n",
    "        else:\n",
    "            RuntimeError('Error: action not recognized')\n",
    "\n",
    "        self.t = self.t + 1\n",
    "        reward = self.board[self.x, self.y]\n",
    "        self.board[self.x, self.y] = 0\n",
    "        game_over = self.t > self.max_time\n",
    "        state = np.concatenate((self.board.reshape(self.grid_size, self.grid_size,1),\n",
    "                        self.position.reshape(self.grid_size, self.grid_size,1)),axis=2)\n",
    "        state = state[self.x-2:self.x+3,self.y-2:self.y+3,:]\n",
    "\n",
    "        return state, reward, game_over\n",
    "\n",
    "    def reset(self):\n",
    "        \"\"\"This function resets the game and returns the initial state\"\"\"\n",
    "\n",
    "        self.x = np.random.randint(3, self.grid_size-3, size=1)[0]\n",
    "        self.y = np.random.randint(3, self.grid_size-3, size=1)[0]\n",
    "\n",
    "\n",
    "        bonus = 0.5*np.random.binomial(1,self.temperature,size=self.grid_size**2)\n",
    "        bonus = bonus.reshape(self.grid_size,self.grid_size)\n",
    "\n",
    "        malus = -1.0*np.random.binomial(1,self.temperature,size=self.grid_size**2)\n",
    "        malus = malus.reshape(self.grid_size, self.grid_size)\n",
    "\n",
    "        self.to_draw = np.zeros((self.max_time+2, self.grid_size*self.scale, self.grid_size*self.scale, 3))\n",
    "\n",
    "\n",
    "        malus[bonus>0]=0\n",
    "\n",
    "        self.board = bonus + malus\n",
    "\n",
    "        self.position = np.zeros((self.grid_size, self.grid_size))\n",
    "        self.position[0:2,:]= -1\n",
    "        self.position[:,0:2] = -1\n",
    "        self.position[-2:, :] = -1\n",
    "        self.position[-2:, :] = -1\n",
    "        self.board[self.x,self.y] = 0\n",
    "        self.t = 0\n",
    "\n",
    "        state = np.concatenate((\n",
    "                               self.board.reshape(self.grid_size, self.grid_size,1),\n",
    "                        self.position.reshape(self.grid_size, self.grid_size,1)),axis=2)\n",
    "\n",
    "        state = state[self.x - 2:self.x + 3, self.y - 2:self.y + 3, :]\n",
    "        return state"
   ]
  },
  {
   "cell_type": "markdown",
   "metadata": {},
   "source": [
    "The following elements are important because they correspond to the hyper parameters for this project:"
   ]
  },
  {
   "cell_type": "code",
   "execution_count": 5,
   "metadata": {},
   "outputs": [],
   "source": [
    "# parameters\n",
    "size = 13\n",
    "T=200\n",
    "temperature=0.3\n",
    "epochs_train=10 # set small when debugging\n",
    "epochs_test=10 # set small when debugging\n",
    "\n",
    "# display videos\n",
    "def display_videos(name):\n",
    "    video = io.open(name, 'r+b').read()\n",
    "    encoded = base64.b64encode(video)\n",
    "    return '''<video alt=\"test\" controls>\n",
    "                <source src=\"data:video/mp4;base64,{0}\" type=\"video/mp4\" />\n",
    "             </video>'''.format(encoded.decode('ascii'))"
   ]
  },
  {
   "cell_type": "markdown",
   "metadata": {},
   "source": [
    "__Question 2__ Explain the use of the arrays ```position``` and ```board```."
   ]
  },
  {
   "cell_type": "markdown",
   "metadata": {},
   "source": [
    "**Board** is in some ways the physical terrain. It contains both bonus and malus objects.It is used to know the immediate reward when we move.  \n",
    "**Position** is the field of view of the player. It is $-1$ if it cannot see it, $0$ if it can and $1$ at the player's position.\n",
    "\n",
    "These two arrays are what defines the state of the environment at a moment $t$."
   ]
  },
  {
   "cell_type": "markdown",
   "metadata": {},
   "source": [
    "## Random Agent"
   ]
  },
  {
   "cell_type": "markdown",
   "metadata": {},
   "source": [
    "***\n",
    "__Question 3__ Implement a random Agent (only ```learned_act``` needs to be implemented):"
   ]
  },
  {
   "cell_type": "code",
   "execution_count": 6,
   "metadata": {},
   "outputs": [],
   "source": [
    "from random import randint\n",
    "\n",
    "class RandomAgent(Agent):\n",
    "    def __init__(self):\n",
    "        super(RandomAgent, self).__init__()\n",
    "        pass\n",
    "\n",
    "    def learned_act(self, s):\n",
    "        return randint(0,3)"
   ]
  },
  {
   "cell_type": "markdown",
   "metadata": {},
   "source": [
    "***\n",
    "***\n",
    "__Question 4__ Visualize the game moves. You need to fill in the following function for the evaluation:"
   ]
  },
  {
   "cell_type": "code",
   "execution_count": 7,
   "metadata": {},
   "outputs": [],
   "source": [
    "def test(agent,env,epochs,prefix=''):\n",
    "    # Number of won games\n",
    "    score = 0\n",
    "        \n",
    "    for e in range(epochs):\n",
    "        # At each epoch, we restart to a fresh game and get the initial state\n",
    "        state = env.reset()\n",
    "        # This assumes that the games will end\n",
    "        game_over = False\n",
    "\n",
    "        win = 0\n",
    "        lose = 0\n",
    "\n",
    "        while not game_over:\n",
    "            # The agent performs an action\n",
    "            action = agent.learned_act(0)\n",
    "\n",
    "            # Apply an action to the environment, get the next state, the reward\n",
    "            # and if the games end\n",
    "            prev_state = state\n",
    "            state, reward, game_over = env.act(action)\n",
    "\n",
    "            # Update the counters\n",
    "            if reward > 0:\n",
    "                win = win + reward\n",
    "            if reward < 0:\n",
    "                lose = lose -reward\n",
    "\n",
    "            # Apply the reinforcement strategy\n",
    "            # loss = agent.reinforce(prev_state, state,  action, reward, game_over)\n",
    "\n",
    "        # Save as a mp4\n",
    "        env.draw(prefix+str(e))\n",
    "\n",
    "        # Update stats\n",
    "        score += win-lose\n",
    "        print(\"Win/lose count {}/{}. Average score ({})\"\n",
    "              .format(win, lose, score/(1+e)))\n",
    "        \n",
    "    print('Final score: '+str(score/epochs))"
   ]
  },
  {
   "cell_type": "code",
   "execution_count": 8,
   "metadata": {},
   "outputs": [
    {
     "name": "stdout",
     "output_type": "stream",
     "text": [
      "Win/lose count 7.0/8.0. Average score (-1.0)\n",
      "Win/lose count 13.5/22.0. Average score (-4.75)\n",
      "Win/lose count 9.0/20.0. Average score (-6.833333333333333)\n",
      "Win/lose count 7.5/17.0. Average score (-7.5)\n",
      "Win/lose count 8.5/18.0. Average score (-7.9)\n",
      "Win/lose count 14.0/9.0. Average score (-5.75)\n",
      "Win/lose count 10.5/11.0. Average score (-5.0)\n",
      "Win/lose count 9.5/11.0. Average score (-4.5625)\n",
      "Win/lose count 11.5/19.0. Average score (-4.888888888888889)\n",
      "Win/lose count 13.0/17.0. Average score (-4.8)\n",
      "Final score: -4.8\n"
     ]
    },
    {
     "data": {
      "text/html": [
       "<video alt=\"test\" controls>\n",
       "                <source src=\"data:video/mp4;base64,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\" type=\"video/mp4\" />\n",
       "             </video>"
      ],
      "text/plain": [
       "<IPython.core.display.HTML object>"
      ]
     },
     "execution_count": 8,
     "metadata": {},
     "output_type": "execute_result"
    }
   ],
   "source": [
    "# Initialize the game\n",
    "env = Environment(grid_size=size, max_time=T,temperature=temperature)\n",
    "\n",
    "# Initialize the agent!\n",
    "agent = RandomAgent()\n",
    "\n",
    "test(agent,env,epochs_test,prefix='random')\n",
    "HTML(display_videos('random0.mp4'))"
   ]
  },
  {
   "cell_type": "markdown",
   "metadata": {},
   "source": [
    "### Remark : \n",
    "We got on average negative results, around $-4$, which is bad, but expected."
   ]
  },
  {
   "cell_type": "markdown",
   "metadata": {},
   "source": [
    "***\n",
    "## DQN"
   ]
  },
  {
   "cell_type": "markdown",
   "metadata": {},
   "source": [
    "Let us assume here that $T=\\infty$.\n",
    "\n",
    "***\n",
    "__Question 5__ Let $\\pi$ be a policy, show that:\n",
    "\n",
    "\\begin{equation*}\n",
    "Q^{\\pi}(s,a)=E_{(s',a')\\sim \\pi(.|s,a)}[r(s,a)+\\gamma Q^{\\pi}(s',a')]\n",
    "\\end{equation*}\n",
    "\n",
    "Then, show that for the optimal policy $\\pi^*$ (we assume its existence), the following holds: \n",
    "\n",
    "\\begin{equation*}\n",
    "Q^{\\pi^*}(s,a)=E_{s'\\sim \\pi^*(.|s,a)}[r(s,a)+\\gamma\\max_{a'}Q^{\\pi^*}(s',a')].\n",
    "\\end{equation*}\n",
    "Finally, deduce that a plausible objective is:\n",
    "\n",
    "\\begin{equation*}\n",
    "\\mathcal{L}(\\theta)=E_{s' \\sim \\pi^*(.|s,a)}\\Vert r+\\gamma\\max_{a'}Q(s',a',\\theta)-Q(s,a,\\theta)\\Vert^{2}.\n",
    "\\end{equation*}\n",
    "\n",
    "\n"
   ]
  },
  {
   "cell_type": "markdown",
   "metadata": {},
   "source": [
    "$Q^\\pi_t(s,a)$ is defined by: \n",
    "$Q^\\pi_t(s,a) = \\mathbb{E}_{(s',a')\\sim \\pi(.|s,a)}[\\sum_{k=0}^\\infty\\gamma^kr_{t+k+1}|s_t=s,a_t=a]$\n",
    "\n",
    "Then $Q^\\pi_t(s,a) = \\mathbb{E}_{(s',a')\\sim \\pi(.|s,a)}[r_{t+1} + \\gamma\\sum_{k=1}^\\infty\\gamma^kr_{t+k+2}|s_t=s,a_t=a]$\n",
    "\n",
    "Thus $Q^\\pi_t(s,a) = \\mathbb{E}_{(s',a')\\sim \\pi(.|s,a)}[r_{t+1}|s_t=s,a_t=a] + \\gamma\\mathbb{E}_\\pi[\\sum_{k=1}^\\infty\\gamma^kr_{t+k+2}|s_t=s,a_t=a]$\n",
    "\n",
    "$ = r(s,a) + \\gamma\\mathbb{E}_{(s',a')\\sim \\pi(.|s,a)}[\\sum_{j=0}^\\infty\\gamma^kr_{t+j-1+2}|s_t=s,a_t=a]$\n",
    "\n",
    "$ = r(s,a) + \\gamma\\mathbb{E}_{(s',a')\\sim \\pi(.|s,a)}[Q_{t+1}^\\pi(s',a')]$\n",
    "\n",
    "$ = \\mathbb{E}_{(s',a')\\sim \\pi(.|s,a)} [r(s,a) + \\gamma Q_{t+1}^\\pi(s',a')]$"
   ]
  },
  {
   "cell_type": "markdown",
   "metadata": {},
   "source": [
    "Then, when $t$ goes to infinity,  \n",
    "$Q^\\pi(s,a) = \\mathbb{E}_{(s',a')\\sim \\pi(.|s,a)} [r(s,a) + \\gamma Q^\\pi(s',a')]$"
   ]
  },
  {
   "cell_type": "markdown",
   "metadata": {},
   "source": [
    "If Q*(s’,a’) are known, then the optimal strategy is to take the action that maximizes the expected value of $r + \\gamma Q^*(s',a')$.\n",
    "The optimal policy $_pi^*$ consists in taking the best action $a'$ in any state $s'$, so: \n",
    "\n",
    "$Q^{\\pi^*}(s,a) = \\max_{a'}\\mathbb{E}_{(s',a')\\sim \\pi(.|s,a)} [r(s,a) + \\gamma Q^\\pi(s',a')]$\n",
    "\n",
    "$ = \\mathbb{E}_{(s',a')\\sim \\pi(.|s,a)} [r(s,a) + \\gamma \\max_{a'}Q^\\pi(s',a')]$\n",
    "\n",
    "$ = \\mathbb{E}_{(s')\\sim \\pi(.|s,a)} [r(s,a) + \\gamma \\max_{a'}Q^\\pi(s',a')]$"
   ]
  },
  {
   "cell_type": "markdown",
   "metadata": {},
   "source": [
    "Thus, to find the best possible value, we want to minimize: \n",
    "\n",
    "$||Q^{\\pi^*}(s,a) - \\mathbb{E}_{(s')\\sim \\pi(.|s,a)} [r(s,a) + \\gamma \\max_{a'}Q^\\pi(s',a')] ||^2$\n",
    "\n",
    "$||\\mathbb{E}_{(s')\\sim \\pi(.|s,a)} [r(s,a) + \\gamma \\max_{a'}Q^\\pi(s',a') - Q^{\\pi^*}(s,a)] ||^2$\n"
   ]
  },
  {
   "cell_type": "markdown",
   "metadata": {},
   "source": [
    "***\n",
    "The DQN-learning algorithm relies on these derivations to train the parameters $\\theta$ of a Deep Neural Network:\n",
    "\n",
    "1. At the state $s_t$, select the action $a_t$ with best reward using $Q_t$ and store the results;\n",
    "\n",
    "2. Obtain the new state $s_{t+1}$ from the environment $p$;\n",
    "\n",
    "3. Store $(s_t,a_t,s_{t+1})$;\n",
    "\n",
    "4. Obtain $Q_{t+1}$ by minimizing  $\\mathcal{L}$ from a recovered batch from the previously stored results.\n",
    "\n",
    "***\n",
    "__Question 6__ Implement the class ```Memory``` that stores moves (in a replay buffer) via ```remember``` and provides a ```random_access``` to these. Specify a maximum memory size to avoid side effects. You can for example use a ```list()``` and set by default ```max_memory=100```."
   ]
  },
  {
   "cell_type": "code",
   "execution_count": 8,
   "metadata": {},
   "outputs": [],
   "source": [
    "import random"
   ]
  },
  {
   "cell_type": "code",
   "execution_count": 9,
   "metadata": {},
   "outputs": [],
   "source": [
    "class Memory(object):\n",
    "    def __init__(self, max_memory=100):\n",
    "        self.max_memory = max_memory\n",
    "        self.memPosition = 0\n",
    "        self.memory = []\n",
    "\n",
    "    def remember(self, m):\n",
    "        if len(self.memory) < self.max_memory:\n",
    "            self.memory.append(m)\n",
    "        else:\n",
    "            self.memory[self.memPosition] = m\n",
    "            self.memPosition = (self.memPosition+1)%self.max_memory\n",
    "\n",
    "    def random_access(self):\n",
    "        index = randint(0, len(self.memory)-1)\n",
    "        return self.memory[index]"
   ]
  },
  {
   "cell_type": "markdown",
   "metadata": {},
   "source": [
    "***\n",
    "The pipeline we will use for training is given below:"
   ]
  },
  {
   "cell_type": "code",
   "execution_count": 10,
   "metadata": {},
   "outputs": [],
   "source": [
    "def train(agent,env,epoch,prefix=''):\n",
    "    # Number of won games\n",
    "    score = 0\n",
    "    loss = 0\n",
    "\n",
    "    for e in range(epoch):\n",
    "        # At each epoch, we restart to a fresh game and get the initial state\n",
    "        state = env.reset()\n",
    "        # This assumes that the games will terminate\n",
    "        game_over = False\n",
    "\n",
    "        win = 0\n",
    "        lose = 0\n",
    "\n",
    "        while not game_over:\n",
    "            # The agent performs an action\n",
    "            action = agent.act(state)\n",
    "\n",
    "            # Apply an action to the environment, get the next state, the reward\n",
    "            # and if the games end\n",
    "            prev_state = state\n",
    "            state, reward, game_over = env.act(action)\n",
    "\n",
    "            # Update the counters\n",
    "            if reward > 0:\n",
    "                win = win + reward\n",
    "            if reward < 0:\n",
    "                lose = lose -reward\n",
    "\n",
    "            # Apply the reinforcement strategy\n",
    "            loss = agent.reinforce(prev_state, state,  action, reward, game_over)\n",
    "\n",
    "        # Save as a mp4\n",
    "        if e % 10 == 0:\n",
    "            env.draw(prefix+str(e))\n",
    "\n",
    "        # Update stats\n",
    "        score += win-lose\n",
    "\n",
    "        print(\"Epoch {:03d}/{:03d} | Loss {:.4f} | Win/lose count {}/{} ({})\"\n",
    "              .format(e, epoch, loss, win, lose, win-lose))\n",
    "        agent.save(name_weights=prefix+'model.h5',name_model=prefix+'model.json')"
   ]
  },
  {
   "cell_type": "code",
   "execution_count": 11,
   "metadata": {},
   "outputs": [],
   "source": [
    "def test(agent,env,epochs,prefix=''):\n",
    "    # Number of won games\n",
    "    score = 0\n",
    "        \n",
    "    for e in range(epochs):\n",
    "        # At each epoch, we restart to a fresh game and get the initial state\n",
    "        state = env.reset()\n",
    "        # This assumes that the games will end\n",
    "        game_over = False\n",
    "\n",
    "        win = 0\n",
    "        lose = 0\n",
    "\n",
    "        while not game_over:\n",
    "            # The agent performs an action\n",
    "            action = np.argmax(agent.learned_act(state))\n",
    "\n",
    "            # Apply an action to the environment, get the next state, the reward\n",
    "            # and if the games end\n",
    "            prev_state = state\n",
    "            state, reward, game_over = env.act(action)\n",
    "\n",
    "            # Update the counters\n",
    "            if reward > 0:\n",
    "                win = win + reward\n",
    "            if reward < 0:\n",
    "                lose = lose -reward\n",
    "\n",
    "            # Apply the reinforcement strategy\n",
    "            #loss = agent.reinforce(prev_state, state, action, reward, game_over)\n",
    "\n",
    "        # Save as a mp4\n",
    "        env.draw(prefix+str(e))\n",
    "\n",
    "        # Update stats\n",
    "        score += win-lose\n",
    "        print(\"Win/lose count {}/{}. Average score ({})\"\n",
    "              .format(win, lose, score/(1+e)))\n",
    "        \n",
    "    print('Final score: '+str(score/epochs))"
   ]
  },
  {
   "cell_type": "markdown",
   "metadata": {},
   "source": [
    "***\n",
    "__Question 7__ Implement the DQN training algorithm using a cascade of fully connected layers. You can use different learning rate, batch size or memory size parameters. In particular, the loss might oscillate while the player will start to win the games. You have to find a good criterium."
   ]
  },
  {
   "cell_type": "code",
   "execution_count": 12,
   "metadata": {},
   "outputs": [],
   "source": [
    "from keras.utils import np_utils, to_categorical"
   ]
  },
  {
   "cell_type": "code",
   "execution_count": 13,
   "metadata": {},
   "outputs": [],
   "source": [
    "class DQN(Agent):\n",
    "    def __init__(self, grid_size,  epsilon = 0.1, memory_size=100, batch_size = 16,n_state=2):\n",
    "        super(DQN, self).__init__(epsilon = epsilon)\n",
    "\n",
    "        # Discount for Q learning\n",
    "        self.discount = 0.99\n",
    "        \n",
    "        self.grid_size = grid_size\n",
    "        \n",
    "        # number of state\n",
    "        self.n_state = n_state\n",
    "\n",
    "        # Memory\n",
    "        self.memory = Memory(memory_size)\n",
    "        \n",
    "        # Batch size when learning\n",
    "        self.batch_size = batch_size\n",
    "\n",
    "    def learned_act(self, s):\n",
    "        pass\n",
    "        \n",
    "    def reinforce(self, s_, n_s_, a_, r_, game_over_):\n",
    "        # Two steps: first memorize the states, second learn from the pool\n",
    "        \"\"\" This function is the core of the learning algorithm. \n",
    "        It takes as an input the current state s_, the next state n_s_\n",
    "        the action a_ used to move from s_ to n_s_ and the reward r_.\n",
    "        \n",
    "        Its goal is to learn a policy.\n",
    "        \"\"\"\n",
    "        \n",
    "        self.memory.remember([s_, n_s_, a_, r_, game_over_])\n",
    "        \n",
    "        input_states = np.zeros((self.batch_size, 5,5,self.n_state))\n",
    "        target_q = np.zeros((self.batch_size, 4))\n",
    "        \n",
    "        for i in range(self.batch_size):\n",
    "            [s, n_s, a, r, game_over] = self.memory.random_access()\n",
    "            input_states[i] = s\n",
    "            \n",
    "            if game_over_:\n",
    "                target = r       # r : reward\n",
    "            else:\n",
    "                target = r + self.discount * np.amax(self.learned_act(n_s)[0])\n",
    "            # train model with s_ and target_q\n",
    "            target_q[i] = self.learned_act(s)\n",
    "            target_q[i,a] = target\n",
    "        # HINT: Clip the target to avoid exploiding gradients.. -- clipping is a bit tighter\n",
    "        target_q = np.clip(target_q, -3, 3)\n",
    "        l = self.model.train_on_batch(input_states, target_q)\n",
    "\n",
    "        return l\n",
    "\n",
    "    def save(self,name_weights='model.h5',name_model='model.json'):\n",
    "        self.model.save_weights(name_weights, overwrite=True)\n",
    "        with open(name_model, \"w\") as outfile:\n",
    "            json.dump(self.model.to_json(), outfile)\n",
    "            \n",
    "    def load(self,name_weights='model.h5',name_model='model.json'):\n",
    "        with open(name_model, \"r\") as jfile:\n",
    "            model = model_from_json(json.load(jfile))\n",
    "        model.load_weights(name_weights)\n",
    "        model.compile(\"sgd\", \"mse\")\n",
    "        self.model = model\n",
    "\n",
    "            \n",
    "class DQN_FC(DQN):\n",
    "    def __init__(self, *args, lr=0.1,**kwargs):\n",
    "        super(DQN_FC, self).__init__( *args,**kwargs)\n",
    "        \n",
    "        model = Sequential()\n",
    "        model.add(Dense(128, activation='relu', input_shape=(5, 5, self.n_state)))\n",
    "        model.add(BatchNormalization())\n",
    "        model.add(Dense(256, activation='relu'))\n",
    "        model.add(BatchNormalization())\n",
    "        model.add(Dense(512, activation='relu'))\n",
    "        model.add(BatchNormalization())\n",
    "        model.add(Dense(256, activation='relu'))\n",
    "        model.add(Flatten())\n",
    "        model.add(Dense(4, activation='sigmoid'))\n",
    "        print(model.summary())\n",
    "       \n",
    "        model.compile(sgd(lr=lr, decay=1e-4, momentum=0.0), \"mse\")\n",
    "        #model.compile(optimizer=Adam(lr=lr), loss='mse')\n",
    "        self.model = model\n",
    "    \n",
    "    def learned_act(self, s):\n",
    "        x = self.model.predict(np.reshape(s, (1,5,5,self.n_state)))\n",
    "        return x[0]"
   ]
  },
  {
   "cell_type": "code",
   "execution_count": 14,
   "metadata": {},
   "outputs": [],
   "source": [
    "epochs_train = 30"
   ]
  },
  {
   "cell_type": "code",
   "execution_count": 47,
   "metadata": {},
   "outputs": [
    {
     "name": "stdout",
     "output_type": "stream",
     "text": [
      "_________________________________________________________________\n",
      "Layer (type)                 Output Shape              Param #   \n",
      "=================================================================\n",
      "dense_39 (Dense)             (None, 5, 5, 128)         384       \n",
      "_________________________________________________________________\n",
      "batch_normalization_13 (Batc (None, 5, 5, 128)         512       \n",
      "_________________________________________________________________\n",
      "dense_40 (Dense)             (None, 5, 5, 256)         33024     \n",
      "_________________________________________________________________\n",
      "batch_normalization_14 (Batc (None, 5, 5, 256)         1024      \n",
      "_________________________________________________________________\n",
      "dense_41 (Dense)             (None, 5, 5, 512)         131584    \n",
      "_________________________________________________________________\n",
      "batch_normalization_15 (Batc (None, 5, 5, 512)         2048      \n",
      "_________________________________________________________________\n",
      "dense_42 (Dense)             (None, 5, 5, 256)         131328    \n",
      "_________________________________________________________________\n",
      "flatten_11 (Flatten)         (None, 6400)              0         \n",
      "_________________________________________________________________\n",
      "dense_43 (Dense)             (None, 4)                 25604     \n",
      "=================================================================\n",
      "Total params: 325,508\n",
      "Trainable params: 323,716\n",
      "Non-trainable params: 1,792\n",
      "_________________________________________________________________\n",
      "None\n",
      "Epoch 000/030 | Loss 0.1704 | Win/lose count 3.0/5.0 (-2.0)\n",
      "Epoch 001/030 | Loss 0.0367 | Win/lose count 1.5/1.0 (0.5)\n",
      "Epoch 002/030 | Loss 0.0198 | Win/lose count 7.5/6.0 (1.5)\n",
      "Epoch 003/030 | Loss 0.0037 | Win/lose count 5.5/11.0 (-5.5)\n",
      "Epoch 004/030 | Loss 0.0047 | Win/lose count 6.0/3.0 (3.0)\n",
      "Epoch 005/030 | Loss 0.0027 | Win/lose count 3.5/4.0 (-0.5)\n",
      "Epoch 006/030 | Loss 0.0031 | Win/lose count 8.0/5.0 (3.0)\n",
      "Epoch 007/030 | Loss 0.0003 | Win/lose count 5.5/8.0 (-2.5)\n",
      "Epoch 008/030 | Loss 0.0231 | Win/lose count 2.0/2.0 (0.0)\n",
      "Epoch 009/030 | Loss 0.0005 | Win/lose count 1.5/3.0 (-1.5)\n",
      "Epoch 010/030 | Loss 0.0009 | Win/lose count 5.0/4.0 (1.0)\n",
      "Epoch 011/030 | Loss 0.0005 | Win/lose count 3.5/1.0 (2.5)\n",
      "Epoch 012/030 | Loss 0.0002 | Win/lose count 4.0/5.0 (-1.0)\n",
      "Epoch 013/030 | Loss 0.0017 | Win/lose count 2.0/6.0 (-4.0)\n",
      "Epoch 014/030 | Loss 0.0011 | Win/lose count 1.5/2.0 (-0.5)\n",
      "Epoch 015/030 | Loss 0.0034 | Win/lose count 2.5/1.0 (1.5)\n",
      "Epoch 016/030 | Loss 0.0003 | Win/lose count 5.0/4.0 (1.0)\n",
      "Epoch 017/030 | Loss 0.0001 | Win/lose count 2.5/1.0 (1.5)\n",
      "Epoch 018/030 | Loss 0.0007 | Win/lose count 5.0/6.0 (-1.0)\n",
      "Epoch 019/030 | Loss 0.0003 | Win/lose count 4.0/3.0 (1.0)\n",
      "Epoch 020/030 | Loss 0.0002 | Win/lose count 3.0/0 (3.0)\n",
      "Epoch 021/030 | Loss 0.0005 | Win/lose count 2.5/2.0 (0.5)\n",
      "Epoch 022/030 | Loss 0.0172 | Win/lose count 0.5/3.0 (-2.5)\n",
      "Epoch 023/030 | Loss 0.0506 | Win/lose count 3.5/10.0 (-6.5)\n",
      "Epoch 024/030 | Loss 0.0009 | Win/lose count 4.5/2.0 (2.5)\n",
      "Epoch 025/030 | Loss 0.0003 | Win/lose count 3.5/3.0 (0.5)\n",
      "Epoch 026/030 | Loss 0.0009 | Win/lose count 3.5/4.0 (-0.5)\n",
      "Epoch 027/030 | Loss 0.0002 | Win/lose count 1.5/1.0 (0.5)\n",
      "Epoch 028/030 | Loss 0.0002 | Win/lose count 2.0/3.0 (-1.0)\n",
      "Epoch 029/030 | Loss 0.0004 | Win/lose count 3.5/2.0 (1.5)\n"
     ]
    },
    {
     "data": {
      "text/html": [
       "<video alt=\"test\" controls>\n",
       "                <source src=\"data:video/mp4;base64,AAAAIGZ0eXBpc29tAAACAGlzb21pc28yYXZjMW1wNDEAAAAIZnJlZQAAFtZtZGF0AAACnwYF//+b3EXpvebZSLeWLNgg2SPu73gyNjQgLSBjb3JlIDE1MiAtIEguMjY0L01QRUctNCBBVkMgY29kZWMgLSBDb3B5bGVmdCAyMDAzLTIwMTcgLSBodHRwOi8vd3d3LnZpZGVvbGFuLm9yZy94MjY0Lmh0bWwgLSBvcHRpb25zOiBjYWJhYz0xIHJlZj0zIGRlYmxvY2s9MTowOjAgYW5hbHlzZT0weDE6MHgxMTEgbWU9aGV4IHN1Ym1lPTcgcHN5PTEgcHN5X3JkPTEuMDA6MC4wMCBtaXhlZF9yZWY9MSBtZV9yYW5nZT0xNiBjaHJvbWFfbWU9MSB0cmVsbGlzPTEgOHg4ZGN0PTAgY3FtPTAgZGVhZHpvbmU9MjEsMTEgZmFzdF9wc2tpcD0xIGNocm9tYV9xcF9vZmZzZXQ9NCB0aHJlYWRzPTggbG9va2FoZWFkX3RocmVhZHM9MSBzbGljZWRfdGhyZWFkcz0wIG5yPTAgZGVjaW1hdGU9MSBpbnRlcmxhY2VkPTAgYmx1cmF5X2NvbXBhdD0wIGNvbnN0cmFpbmVkX2ludHJhPTAgYmZyYW1lcz0zIGJfcHlyYW1pZD0yIGJfYWRhcHQ9MSBiX2JpYXM9MCBkaXJlY3Q9MSB3ZWlnaHRiPTEgb3Blbl9nb3A9MCB3ZWlnaHRwPTIga2V5aW50PTI1MCBrZXlpbnRfbWluPTI1IHNjZW5lY3V0PTQwIGludHJhX3JlZnJlc2g9MCByY19sb29rYWhlYWQ9NDAgcmM9Y3JmIG1idHJlZT0xIGNyZj0yMy4wIHFjb21wPTAuNjAgcXBtaW49MCBxcG1heD02OSBxcHN0ZXA9NCBpcF9yYXRpbz0xLjQwIGFxPTE6MS4wMACAAAADKWWIhAA3//72h/gU2VgT/lm//Q1/3I/bj6z9cWMhBN9aryHowBkvtR/m/6xRbOmelAf34AiUAHNuGcKScOL/wKS3VvgUy2E5zCloLqwKFerT+gL0nnAGUD2kQXndsMQ7R6Qaoz0Gf/atkWVzY1Gkx3ySDaqRObFPng3NJzFqnNWl2KI4FOgCckeF+bCCsPu/inRazoBC6IimeYHYBBDc9SnqjIGSCI2eOI91RlDwW0dNfs3YdxwR8VHsFr6q+pdsL/0WUQMUrqwCnCQT4xdKNOrnuM6MnZuxei0QRSx92rH9kI5rcdC6smU1zX+IrKIVJlmZzlNw06OTQORYrloeSlmONpMsYbMfjK7nU3f0P4QTGa8Q6O3R7wz4Ajitf5M+kEejw+sP4IglcwZLY6f4OLSUI/HL+SgOMAZG5+Whwuy1bGYnjmWvpiArS+A8Oc9+OnkggK0mseX1oZAFTJ0RnIK0n5XnO2AJfBb2Kf/pBI481u1gvSpWQRsW3swUvzHrQqMJvn+JEpc0w5qda6Oq0we0QZOCOfJZ42eg3IIU+9Pg9akIXBNeINnCSi+oPQFUcft6Xx2x6N+B+uenDzaMldIlOh4mKd0DGqZnin0AjfGlDKfGTC6j+SzHA7vYw/1veegaNrjwDbXf1sFPlTNYSW0AcRR2k8cnvGULjf0VnwM+cdK9ys0STlp34B5DAgiFaLfHK6X3uE4kWRmMpUM6mOHgp9TEMU1DbVCH3AC8RbeScDAKqEECws8m0I/0MIfjx46drkUnZGU+kDhuDGEBpb2QEMmxKXQ1khqpBnzpIlJhoU4hpd33RxtPjs+LrUUGBSKVw29epsWwgS+ewQplI8UPoyP/eWP9nYIelHUJUOcIM+Tr9ctzFxWLQasKLjF1B5HgBpogcVCYKoy+yXxi/LDA9UCg8Jyt9bb9z9ub8In3cyZGvVv0WLfVrNBgkREM3A+xKEPeYiS4AO/BMQmT3GST/iE3wdScnOaFYeVY5UcSEPyW0SQyEhzdaiSbKSEcEOGEm5CFf9rSnQRVsko1C76xrSd+UAg9Twdlr65eGcuXInGSI6FAAAZtAAAAEUGaImxDf/6nhAAVr3U/bCCAAAAADwGeQXkK/wARpYtsM9WflwAAABpBmkQ8IZMphDP//p4QAIaIcq3Bedr7++3PMAAAABABnmNqQr8AHFZ4Q8aGsi+BAAAAGEGaZUnhDyZTAhv//qeEADX0if6lIBVpwQAAABhBmoZJ4Q8mUwIb//6nhABT/RP9SkAqoEEAAAAhQZqoSeEPJlMFETw3//6nhADI+sNzLLEyO4jhnl5fvRNBAAAAEAGex2pCvwCj2PHK/tw+oEAAAAAZQZrJSeEPJlMCHf/+qZYAnCLDdGIRz6/fMAAAADBBmu1J4Q8mUwId//6plgYcNV3xCDb/8JT46Yv/8Imxi//wk7q/xsaSBw/qVRcpu6EAAAAQQZ8LRRE8L/8B6frfqTJGwAAAAA8Bnyp0Qr8CkdIAB0xW49UAAAAPAZ8sakK/ApI1cxX91K2BAAAAGUGbMEmoQWiZTAh3//6plgXkdy+WHTwYf4EAAAAPQZ9ORREsK/8CkFZxiWtBAAAADQGfb2pCvwKSNXe0S1oAAAATQZt0SahBbJlMCHf//qmWAACVgAAAAAxBn5JFFSwv/wAAsoEAAAAQAZ+xdEK/AYTOTvwAfbpTQAAAABABn7NqQr8CkNa7qq89EtaAAAAAE0GbuEmoQWyZTAh3//6plgAAlYEAAAAMQZ/WRRUsL/8AALKAAAAAEAGf9XRCvwKSQBz9dA4skYEAAAAQAZ/3akK/ApDWu6qvPRLWgQAAABNBm/xJqEFsmUwId//+qZYAAJWAAAAADEGeGkUVLC//AACygQAAABABnjl0Qr8CkkAc/XQOLJGAAAAAEAGeO2pCvwKQ1ruqrz0S1oEAAAATQZogSahBbJlMCHf//qmWAACVgQAAAAxBnl5FFSwv/wAAsoAAAAAQAZ59dEK/ApJAHP10DiyRgAAAABABnn9qQr8CkNa7qq89EtaBAAAAE0GaZEmoQWyZTAh3//6plgAAlYAAAAAMQZ6CRRUsL/8AALKBAAAAEAGeoXRCvwKSQBz9dA4skYAAAAAQAZ6jakK/ApDWu6qvPRLWgQAAABNBmqhJqEFsmUwId//+qZYAAJWBAAAADEGexkUVLC//AACygQAAABABnuV0Qr8CkkAc/XQOLJGBAAAAEAGe52pCvwKQ1ruqrz0S1oAAAAATQZrsSahBbJlMCHf//qmWAACVgAAAAAxBnwpFFSwv/wAAsoEAAAAQAZ8pdEK/ApJAHP10DiyRgAAAABABnytqQr8CkNa7qq89EtaAAAAAEkGbMEmoQWyZTAhv//6nhAABJwAAAAxBn05FFSwv/wAAsoEAAAAQAZ9tdEK/ApJAHP10DiyRgQAAABABn29qQr8CkNa7qq89EtaAAAAAG0GbdEmoQWyZTAhn//6eECKPuuI5+LnEP7uhLwAAABBBn5JFFSwv/wHWnRH2Be35AAAADwGfsXRCvwKSQB0HUslrQAAAABABn7NqQr8Ckaddw+ziOS2gAAAAGUGbtUmoQWyZTAhn//6eECPb+/e2OPqnxoUAAAAYQZvWSeEKUmUwIZ/+nhAIp4h/YeI+rlO6AAAAGUGb90nhDomUwIb//qeEAS346fUcaEhwWUEAAAAdQZoZSeEPJlMFETwz//6eEAL77pvsBa7Ji2Cp/HEAAAAQAZ44akK/AJ825FXgCf0fgAAAABlBmjpJ4Q8mUwIb//6nhABSPdT9RxoSHFJBAAAAHUGaXEnhDyZTBRE8M//+nhAAzvr7+hXRsmLYKpKQAAAAEAGee2pCvwArLbkVeAJ/4IEAAAAZQZp9SeEPJlMCG//+p4QAFj91P1HGhIdLwQAAABlBmp5J4Q8mUwIb//6nhAAON7B/hOC3QqTAAAAAHUGaoEnhDyZTBRE8N//+p4QACTfHT7mRhbMUI550AAAAEAGe32pCvwAHbCA+A+v4INEAAAAXQZrCSeEPJlMFPDf//qeEAAO577Pt4cAAAAAPAZ7hakK/AAS4NYF1/lFBAAAAEkGa5EnhDyZTBTw3//6nhAABJwAAABABnwNqQr8ABKli3YrR91NBAAAAEkGbBknhDyZTBTw3//6nhAABJwAAABABnyVqQr8ABKli3YrR91NBAAAAEkGbKEnhDyZTBTw3//6nhAABJwAAABABn0dqQr8ABKli3YrR91NAAAAAEkGbSknhDyZTBTw3//6nhAABJwAAABABn2lqQr8ABKli3YrR91NBAAAAEkGbbEnhDyZTBTw3//6nhAABJwAAABABn4tqQr8ABKli3YrR91NAAAAAEkGbjknhDyZTBTw3//6nhAABJwAAABABn61qQr8ABKli3YrR91NBAAAAEkGbsEnhDyZTBTw3//6nhAABJwAAABABn89qQr8ABKli3YrR91NAAAAAEkGb0knhDyZTBTw3//6nhAABJwAAABABn/FqQr8ABKli3YrR91NBAAAAEkGb9EnhDyZTBTw3//6nhAABJwAAABABnhNqQr8ABKli3YrR91NAAAAAEkGaFknhDyZTBTw3//6nhAABJwAAABABnjVqQr8ABKli3YrR91NAAAAAEkGaOEnhDyZTBTw3//6nhAABJwAAABABnldqQr8ABKli3YrR91NBAAAAEkGaWknhDyZTBTw3//6nhAABJwAAABABnnlqQr8ABKli3YrR91NBAAAAEkGafEnhDyZTBTw3//6nhAABJwAAABABnptqQr8ABKli3YrR91NBAAAAEkGanknhDyZTBTw3//6nhAABJwAAABABnr1qQr8ABKli3YrR91NAAAAAEkGaoEnhDyZTBTw3//6nhAABJwAAABABnt9qQr8ABKli3YrR91NBAAAAEkGawknhDyZTBTw3//6nhAABJwAAABABnuFqQr8ABKli3YrR91NBAAAAEkGa5EnhDyZTBTw3//6nhAABJwAAABABnwNqQr8ABKli3YrR91NBAAAAEkGbBknhDyZTBTw3//6nhAABJwAAABABnyVqQr8ABKli3YrR91NBAAAAEkGbKEnhDyZTBTw3//6nhAABJwAAABABn0dqQr8ABKli3YrR91NAAAAAEkGbSknhDyZTBTw3//6nhAABJwAAABABn2lqQr8ABKli3YrR91NBAAAAEkGbbEnhDyZTBTw3//6nhAABJwAAABABn4tqQr8ABKli3YrR91NAAAAAEkGbjknhDyZTBTw3//6nhAABJwAAABABn61qQr8ABKli3YrR91NBAAAAEkGbsEnhDyZTBTw3//6nhAABJwAAABABn89qQr8ABKli3YrR91NAAAAAEkGb0knhDyZTBTw3//6nhAABJwAAABABn/FqQr8ABKli3YrR91NBAAAAEkGb9EnhDyZTBTw3//6nhAABJwAAABABnhNqQr8ABKli3YrR91NAAAAAEkGaFknhDyZTBTw3//6nhAABJwAAABABnjVqQr8ABKli3YrR91NAAAAAEkGaOEnhDyZTBTw3//6nhAABJwAAABABnldqQr8ABKli3YrR91NBAAAAEkGaWknhDyZTBTw3//6nhAABJwAAABABnnlqQr8ABKli3YrR91NBAAAAEkGafEnhDyZTBTw3//6nhAABJwAAABABnptqQr8ABKli3YrR91NBAAAAEkGanknhDyZTBTw3//6nhAABJwAAABABnr1qQr8ABKli3YrR91NAAAAAEkGaoEnhDyZTBTw3//6nhAABJwAAABABnt9qQr8ABKli3YrR91NBAAAAEkGawknhDyZTBTw3//6nhAABJwAAABABnuFqQr8ABKli3YrR91NBAAAAEkGa5EnhDyZTBTw3//6nhAABJwAAABABnwNqQr8ABKli3YrR91NBAAAAEkGbBknhDyZTBTw3//6nhAABJwAAABABnyVqQr8ABKli3YrR91NBAAAAEkGbKEnhDyZTBTw3//6nhAABJwAAABABn0dqQr8ABKli3YrR91NAAAAAEkGbSknhDyZTBTw3//6nhAABJwAAABABn2lqQr8ABKli3YrR91NBAAAAEkGbbEnhDyZTBTw3//6nhAABJwAAABABn4tqQr8ABKli3YrR91NAAAAAEkGbjknhDyZTBTw3//6nhAABJwAAABABn61qQr8ABKli3YrR91NBAAAAEkGbsEnhDyZTBTw3//6nhAABJwAAABABn89qQr8ABKli3YrR91NAAAAAEkGb0knhDyZTBTw3//6nhAABJwAAABABn/FqQr8ABKli3YrR91NBAAAAEkGb9EnhDyZTBTw3//6nhAABJwAAABABnhNqQr8ABKli3YrR91NAAAAAEkGaFknhDyZTBTw3//6nhAABJwAAABABnjVqQr8ABKli3YrR91NAAAAAEkGaOEnhDyZTBTw3//6nhAABJwAAABABnldqQr8ABKli3YrR91NBAAAAEkGaWknhDyZTBTw3//6nhAABJwAAABABnnlqQr8ABKli3YrR91NBAAAAEkGafEnhDyZTBTw3//6nhAABJwAAABABnptqQr8ABKli3YrR91NBAAAAEkGanknhDyZTBTw3//6nhAABJwAAABABnr1qQr8ABKli3YrR91NAAAAAEkGaoEnhDyZTBTw3//6nhAABJwAAABABnt9qQr8ABKli3YrR91NBAAAAEkGawknhDyZTBTw3//6nhAABJwAAABABnuFqQr8ABKli3YrR91NBAAAAEkGa5EnhDyZTBTw3//6nhAABJwAAABABnwNqQr8ABKli3YrR91NBAAAAEkGbBknhDyZTBTw3//6nhAABJwAAABABnyVqQr8ABKli3YrR91NBAAAAEkGbKEnhDyZTBTw3//6nhAABJwAAABABn0dqQr8ABKli3YrR91NAAAAAEkGbSknhDyZTBTw3//6nhAABJwAAABABn2lqQr8ABKli3YrR91NBAAAAEkGbbEnhDyZTBTw3//6nhAABJwAAABABn4tqQr8ABKli3YrR91NAAAAAEkGbjknhDyZTBTw3//6nhAABJwAAABABn61qQr8ABKli3YrR91NBAAAAEkGbsEnhDyZTBTw3//6nhAABJwAAABABn89qQr8ABKli3YrR91NAAAAAEkGb0knhDyZTBTw3//6nhAABJwAAABABn/FqQr8ABKli3YrR91NBAAAAEkGb9EnhDyZTBTw3//6nhAABJwAAABABnhNqQr8ABKli3YrR91NAAAAAEkGaFknhDyZTBTw3//6nhAABJwAAABABnjVqQr8ABKli3YrR91NAAAAAEkGaOEnhDyZTBTw3//6nhAABJwAAABABnldqQr8ABKli3YrR91NBAAAAEkGaWknhDyZTBTw3//6nhAABJwAAABABnnlqQr8ABKli3YrR91NBAAAAEkGafEnhDyZTBTw3//6nhAABJwAAABABnptqQr8ABKli3YrR91NBAAAAEkGanknhDyZTBTw3//6nhAABJwAAABABnr1qQr8ABKli3YrR91NAAAAAEkGaoEnhDyZTBTw3//6nhAABJwAAABABnt9qQr8ABKli3YrR91NBAAAAEkGawknhDyZTBTw3//6nhAABJwAAABABnuFqQr8ABKli3YrR91NBAAAAEkGa5EnhDyZTBTwz//6eEAAEfAAAABABnwNqQr8ABKli3YrR91NBAAAAEkGbBknhDyZTBTwz//6eEAAEfQAAABABnyVqQr8ABKli3YrR91NBAAAAEkGbKEnhDyZTBTwv//6MsAAEjQAAABABn0dqQr8ABKli3YrR91NAAAAAGkGbSUvhCEPJEYIKAfyAf2HgCFf//jhAABFwAAAMYG1vb3YAAABsbXZoZAAAAAAAAAAAAAAAAAAAA+gAAB+QAAEAAAEAAAAAAAAAAAAAAAABAAAAAAAAAAAAAAAAAAAAAQAAAAAAAAAAAAAAAAAAQAAAAAAAAAAAAAAAAAAAAAAAAAAAAAAAAAAAAAAAAAIAAAuKdHJhawAAAFx0a2hkAAAAAwAAAAAAAAAAAAAAAQAAAAAAAB+QAAAAAAAAAAAAAAAAAAAAAAABAAAAAAAAAAAAAAAAAAAAAQAAAAAAAAAAAAAAAAAAQAAAAAEQAAABEAAAAAAAJGVkdHMAAAAcZWxzdAAAAAAAAAABAAAfkAAABAAAAQAAAAALAm1kaWEAAAAgbWRoZAAAAAAAAAAAAAAAAAAAMgAAAZQAVcQAAAAAAC1oZGxyAAAAAAAAAAB2aWRlAAAAAAAAAAAAAAAAVmlkZW9IYW5kbGVyAAAACq1taW5mAAAAFHZtaGQAAAABAAAAAAAAAAAAAAAkZGluZgAAABxkcmVmAAAAAAAAAAEAAAAMdXJsIAAAAAEAAAptc3RibAAAAJVzdHNkAAAAAAAAAAEAAACFYXZjMQAAAAAAAAABAAAAAAAAAAAAAAAAAAAAAAEQARAASAAAAEgAAAAAAAAAAQAAAAAAAAAAAAAAAAAAAAAAAAAAAAAAAAAAAAAAAAAAABj//wAAAC9hdmNDAfQADf/hABdn9AANkZsoIhHQgAAAAwCAAAAZB4oUywEABWjr48RIAAAAGHN0dHMAAAAAAAAAAQAAAMoAAAIAAAAAFHN0c3MAAAAAAAAAAQAAAAEAAAY4Y3R0cwAAAAAAAADFAAAAAQAABAAAAAABAAAGAAAAAAEAAAIAAAAAAQAABgAAAAABAAACAAAAAAIAAAQAAAAAAQAABgAAAAABAAACAAAAAAEAAAQAAAAAAQAACgAAAAABAAAEAAAAAAEAAAAAAAAAAQAAAgAAAAABAAAIAAAAAAIAAAIAAAAAAQAACgAAAAABAAAEAAAAAAEAAAAAAAAAAQAAAgAAAAABAAAKAAAAAAEAAAQAAAAAAQAAAAAAAAABAAACAAAAAAEAAAoAAAAAAQAABAAAAAABAAAAAAAAAAEAAAIAAAAAAQAACgAAAAABAAAEAAAAAAEAAAAAAAAAAQAAAgAAAAABAAAKAAAAAAEAAAQAAAAAAQAAAAAAAAABAAACAAAAAAEAAAoAAAAAAQAABAAAAAABAAAAAAAAAAEAAAIAAAAAAQAACgAAAAABAAAEAAAAAAEAAAAAAAAAAQAAAgAAAAABAAAKAAAAAAEAAAQAAAAAAQAAAAAAAAABAAACAAAAAAEAAAoAAAAAAQAABAAAAAABAAAAAAAAAAEAAAIAAAAAAwAABAAAAAABAAAGAAAAAAEAAAIAAAAAAQAABAAAAAABAAAGAAAAAAEAAAIAAAAAAgAABAAAAAABAAAGAAAAAAEAAAIAAAAAAQAABgAAAAABAAACAAAAAAEAAAYAAAAAAQAAAgAAAAABAAAGAAAAAAEAAAIAAAAAAQAABgAAAAABAAACAAAAAAEAAAYAAAAAAQAAAgAAAAABAAAGAAAAAAEAAAIAAAAAAQAABgAAAAABAAACAAAAAAEAAAYAAAAAAQAAAgAAAAABAAAGAAAAAAEAAAIAAAAAAQAABgAAAAABAAACAAAAAAEAAAYAAAAAAQAAAgAAAAABAAAGAAAAAAEAAAIAAAAAAQAABgAAAAABAAACAAAAAAEAAAYAAAAAAQAAAgAAAAABAAAGAAAAAAEAAAIAAAAAAQAABgAAAAABAAACAAAAAAEAAAYAAAAAAQAAAgAAAAABAAAGAAAAAAEAAAIAAAAAAQAABgAAAAABAAACAAAAAAEAAAYAAAAAAQAAAgAAAAABAAAGAAAAAAEAAAIAAAAAAQAABgAAAAABAAACAAAAAAEAAAYAAAAAAQAAAgAAAAABAAAGAAAAAAEAAAIAAAAAAQAABgAAAAABAAACAAAAAAEAAAYAAAAAAQAAAgAAAAABAAAGAAAAAAEAAAIAAAAAAQAABgAAAAABAAACAAAAAAEAAAYAAAAAAQAAAgAAAAABAAAGAAAAAAEAAAIAAAAAAQAABgAAAAABAAACAAAAAAEAAAYAAAAAAQAAAgAAAAABAAAGAAAAAAEAAAIAAAAAAQAABgAAAAABAAACAAAAAAEAAAYAAAAAAQAAAgAAAAABAAAGAAAAAAEAAAIAAAAAAQAABgAAAAABAAACAAAAAAEAAAYAAAAAAQAAAgAAAAABAAAGAAAAAAEAAAIAAAAAAQAABgAAAAABAAACAAAAAAEAAAYAAAAAAQAAAgAAAAABAAAGAAAAAAEAAAIAAAAAAQAABgAAAAABAAACAAAAAAEAAAYAAAAAAQAAAgAAAAABAAAGAAAAAAEAAAIAAAAAAQAABgAAAAABAAACAAAAAAEAAAYAAAAAAQAAAgAAAAABAAAGAAAAAAEAAAIAAAAAAQAABgAAAAABAAACAAAAAAEAAAYAAAAAAQAAAgAAAAABAAAGAAAAAAEAAAIAAAAAAQAABgAAAAABAAACAAAAAAEAAAYAAAAAAQAAAgAAAAABAAAGAAAAAAEAAAIAAAAAAQAABgAAAAABAAACAAAAAAEAAAYAAAAAAQAAAgAAAAABAAAGAAAAAAEAAAIAAAAAAQAABgAAAAABAAACAAAAAAEAAAYAAAAAAQAAAgAAAAABAAAGAAAAAAEAAAIAAAAAAQAABgAAAAABAAACAAAAAAEAAAYAAAAAAQAAAgAAAAABAAAGAAAAAAEAAAIAAAAAAQAABgAAAAABAAACAAAAAAEAAAYAAAAAAQAAAgAAAAABAAAGAAAAAAEAAAIAAAAAAQAABgAAAAABAAACAAAAAAEAAAYAAAAAAQAAAgAAAAABAAAEAAAAABxzdHNjAAAAAAAAAAEAAAABAAAAygAAAAEAAAM8c3RzegAAAAAAAAAAAAAAygAABdAAAAAVAAAAEwAAAB4AAAAUAAAAHAAAABwAAAAlAAAAFAAAAB0AAAA0AAAAFAAAABMAAAATAAAAHQAAABMAAAARAAAAFwAAABAAAAAUAAAAFAAAABcAAAAQAAAAFAAAABQAAAAXAAAAEAAAABQAAAAUAAAAFwAAABAAAAAUAAAAFAAAABcAAAAQAAAAFAAAABQAAAAXAAAAEAAAABQAAAAUAAAAFwAAABAAAAAUAAAAFAAAABYAAAAQAAAAFAAAABQAAAAfAAAAFAAAABMAAAAUAAAAHQAAABwAAAAdAAAAIQAAABQAAAAdAAAAIQAAABQAAAAdAAAAHQAAACEAAAAUAAAAGwAAABMAAAAWAAAAFAAAABYAAAAUAAAAFgAAABQAAAAWAAAAFAAAABYAAAAUAAAAFgAAABQAAAAWAAAAFAAAABYAAAAUAAAAFgAAABQAAAAWAAAAFAAAABYAAAAUAAAAFgAAABQAAAAWAAAAFAAAABYAAAAUAAAAFgAAABQAAAAWAAAAFAAAABYAAAAUAAAAFgAAABQAAAAWAAAAFAAAABYAAAAUAAAAFgAAABQAAAAWAAAAFAAAABYAAAAUAAAAFgAAABQAAAAWAAAAFAAAABYAAAAUAAAAFgAAABQAAAAWAAAAFAAAABYAAAAUAAAAFgAAABQAAAAWAAAAFAAAABYAAAAUAAAAFgAAABQAAAAWAAAAFAAAABYAAAAUAAAAFgAAABQAAAAWAAAAFAAAABYAAAAUAAAAFgAAABQAAAAWAAAAFAAAABYAAAAUAAAAFgAAABQAAAAWAAAAFAAAABYAAAAUAAAAFgAAABQAAAAWAAAAFAAAABYAAAAUAAAAFgAAABQAAAAWAAAAFAAAABYAAAAUAAAAFgAAABQAAAAWAAAAFAAAABYAAAAUAAAAFgAAABQAAAAWAAAAFAAAABYAAAAUAAAAFgAAABQAAAAWAAAAFAAAABYAAAAUAAAAFgAAABQAAAAWAAAAFAAAABYAAAAUAAAAFgAAABQAAAAWAAAAFAAAABYAAAAUAAAAFgAAABQAAAAWAAAAFAAAAB4AAAAUc3RjbwAAAAAAAAABAAAAMAAAAGJ1ZHRhAAAAWm1ldGEAAAAAAAAAIWhkbHIAAAAAAAAAAG1kaXJhcHBsAAAAAAAAAAAAAAAALWlsc3QAAAAlqXRvbwAAAB1kYXRhAAAAAQAAAABMYXZmNTguMjAuMTAw\" type=\"video/mp4\" />\n",
       "             </video>"
      ],
      "text/plain": [
       "<IPython.core.display.HTML object>"
      ]
     },
     "execution_count": 47,
     "metadata": {},
     "output_type": "execute_result"
    }
   ],
   "source": [
    "env = Environment(grid_size=size, max_time=T, temperature=0.3)\n",
    "agent = DQN_FC(size, lr=.001, epsilon = 0.1, memory_size=100, batch_size = 16)\n",
    "train(agent, env, epochs_train, prefix='fc_train')\n",
    "HTML(display_videos('fc_train0.mp4'))"
   ]
  },
  {
   "cell_type": "markdown",
   "metadata": {},
   "source": [
    "***\n",
    "***\n",
    "__Question 8__ Implement the DQN training algorithm using a CNN (for example, 2 convolutional layers and one final fully connected layer)."
   ]
  },
  {
   "cell_type": "code",
   "execution_count": 20,
   "metadata": {},
   "outputs": [],
   "source": [
    "class DQN_CNN(DQN):\n",
    "    def __init__(self, *args,lr=0.001,**kwargs):\n",
    "        super(DQN_CNN, self).__init__(*args,**kwargs)\n",
    "        \n",
    "        model = Sequential()\n",
    "        model.add(Conv2D(256, (3, 3), activation='relu', input_shape=(5, 5, self.n_state)))\n",
    "        model.add(Dropout(0.2))\n",
    "        #model.add(BatchNormalization())\n",
    "        model.add(Conv2D(256, (3, 3), activation='relu'))\n",
    "        model.add(Dropout(0.2))\n",
    "        #model.add(BatchNormalization())\n",
    "        model.add(Flatten())\n",
    "        #model.add(Dense(128, activation='relu'))\n",
    "        #model.add(BatchNormalization())\n",
    "        model.add(Dense(4,   activation='sigmoid'))\n",
    "        print(model.summary())\n",
    "        \n",
    "        #model.compile(sgd(lr=lr, decay=1e-4, momentum=0.0), \"mse\")\n",
    "        model.compile(optimizer=Adam(lr=lr), loss='mse')\n",
    "        self.model = model\n",
    "        \n",
    "    def learned_act(self, s):\n",
    "        x = self.model.predict(np.reshape(s, (1,5,5,self.n_state)))\n",
    "        return x[0]"
   ]
  },
  {
   "cell_type": "code",
   "execution_count": 16,
   "metadata": {},
   "outputs": [],
   "source": [
    "epochs_train = 100"
   ]
  },
  {
   "cell_type": "code",
   "execution_count": 25,
   "metadata": {},
   "outputs": [
    {
     "name": "stdout",
     "output_type": "stream",
     "text": [
      "_________________________________________________________________\n",
      "Layer (type)                 Output Shape              Param #   \n",
      "=================================================================\n",
      "conv2d_9 (Conv2D)            (None, 3, 3, 256)         4864      \n",
      "_________________________________________________________________\n",
      "conv2d_10 (Conv2D)           (None, 1, 1, 256)         590080    \n",
      "_________________________________________________________________\n",
      "flatten_7 (Flatten)          (None, 256)               0         \n",
      "_________________________________________________________________\n",
      "dense_15 (Dense)             (None, 4)                 1028      \n",
      "=================================================================\n",
      "Total params: 595,972\n",
      "Trainable params: 595,972\n",
      "Non-trainable params: 0\n",
      "_________________________________________________________________\n",
      "None\n",
      "Epoch 000/100 | Loss 0.2467 | Win/lose count 3.0/6.0 (-3.0)\n",
      "Epoch 001/100 | Loss 0.2499 | Win/lose count 4.0/1.0 (3.0)\n",
      "Epoch 002/100 | Loss 0.0003 | Win/lose count 5.0/5.0 (0.0)\n",
      "Epoch 003/100 | Loss 0.0000 | Win/lose count 5.0/4.0 (1.0)\n",
      "Epoch 004/100 | Loss 0.0000 | Win/lose count 5.5/4.0 (1.5)\n",
      "Epoch 005/100 | Loss 0.0000 | Win/lose count 0.5/1.0 (-0.5)\n",
      "Epoch 006/100 | Loss 0.0000 | Win/lose count 5.0/1.0 (4.0)\n",
      "Epoch 007/100 | Loss 0.0000 | Win/lose count 5.5/2.0 (3.5)\n",
      "Epoch 008/100 | Loss 0.0006 | Win/lose count 9.0/5.0 (4.0)\n",
      "Epoch 009/100 | Loss 0.0553 | Win/lose count 17.0/8.0 (9.0)\n",
      "Epoch 010/100 | Loss 0.0497 | Win/lose count 13.5/7.0 (6.5)\n",
      "Epoch 011/100 | Loss 0.0001 | Win/lose count 4.0/4.0 (0.0)\n",
      "Epoch 012/100 | Loss 0.0000 | Win/lose count 6.5/3.0 (3.5)\n",
      "Epoch 013/100 | Loss 0.0005 | Win/lose count 19.0/2.0 (17.0)\n",
      "Epoch 014/100 | Loss 0.0003 | Win/lose count 2.5/0 (2.5)\n",
      "Epoch 015/100 | Loss 0.0037 | Win/lose count 6.5/5.0 (1.5)\n",
      "Epoch 016/100 | Loss 0.0000 | Win/lose count 9.0/0 (9.0)\n",
      "Epoch 017/100 | Loss 0.0001 | Win/lose count 9.0/3.0 (6.0)\n",
      "Epoch 018/100 | Loss 0.0000 | Win/lose count 12.0/2.0 (10.0)\n",
      "Epoch 019/100 | Loss 0.0005 | Win/lose count 11.5/5.0 (6.5)\n",
      "Epoch 020/100 | Loss 0.0000 | Win/lose count 2.0/0 (2.0)\n",
      "Epoch 021/100 | Loss 0.0147 | Win/lose count 15.0/1.0 (14.0)\n",
      "Epoch 022/100 | Loss 0.0157 | Win/lose count 11.0/2.0 (9.0)\n",
      "Epoch 023/100 | Loss 0.0363 | Win/lose count 23.5/3.0 (20.5)\n",
      "Epoch 024/100 | Loss 0.0000 | Win/lose count 4.5/2.0 (2.5)\n",
      "Epoch 025/100 | Loss 0.0000 | Win/lose count 7.5/3.0 (4.5)\n",
      "Epoch 026/100 | Loss 0.0000 | Win/lose count 2.5/3.0 (-0.5)\n",
      "Epoch 027/100 | Loss 0.0019 | Win/lose count 23.0/5.0 (18.0)\n",
      "Epoch 028/100 | Loss 0.0000 | Win/lose count 6.0/1.0 (5.0)\n",
      "Epoch 029/100 | Loss 0.0000 | Win/lose count 9.5/4.0 (5.5)\n",
      "Epoch 030/100 | Loss 0.0002 | Win/lose count 11.5/3.0 (8.5)\n",
      "Epoch 031/100 | Loss 0.0000 | Win/lose count 3.0/3.0 (0.0)\n",
      "Epoch 032/100 | Loss 0.0163 | Win/lose count 28.5/3.0 (25.5)\n",
      "Epoch 033/100 | Loss 0.0000 | Win/lose count 16.5/3.0 (13.5)\n",
      "Epoch 034/100 | Loss 0.0039 | Win/lose count 10.5/1.0 (9.5)\n",
      "Epoch 035/100 | Loss 0.0001 | Win/lose count 8.5/5.0 (3.5)\n",
      "Epoch 036/100 | Loss 0.0087 | Win/lose count 12.5/4.0 (8.5)\n",
      "Epoch 037/100 | Loss 0.0000 | Win/lose count 10.5/1.0 (9.5)\n",
      "Epoch 038/100 | Loss 0.0000 | Win/lose count 2.0/0 (2.0)\n",
      "Epoch 039/100 | Loss 0.0362 | Win/lose count 19.5/1.0 (18.5)\n",
      "Epoch 040/100 | Loss 0.0044 | Win/lose count 12.5/1.0 (11.5)\n",
      "Epoch 041/100 | Loss 0.0000 | Win/lose count 6.5/0 (6.5)\n",
      "Epoch 042/100 | Loss 0.0000 | Win/lose count 7.0/1.0 (6.0)\n",
      "Epoch 043/100 | Loss 0.0000 | Win/lose count 7.0/1.0 (6.0)\n",
      "Epoch 044/100 | Loss 0.0000 | Win/lose count 7.5/2.0 (5.5)\n",
      "Epoch 045/100 | Loss 0.0044 | Win/lose count 12.5/2.0 (10.5)\n",
      "Epoch 046/100 | Loss 0.0001 | Win/lose count 6.5/1.0 (5.5)\n",
      "Epoch 047/100 | Loss 0.0000 | Win/lose count 5.0/0 (5.0)\n",
      "Epoch 048/100 | Loss 0.0001 | Win/lose count 9.0/5.0 (4.0)\n",
      "Epoch 049/100 | Loss 0.0000 | Win/lose count 7.5/4.0 (3.5)\n",
      "Epoch 050/100 | Loss 0.0000 | Win/lose count 6.0/1.0 (5.0)\n",
      "Epoch 051/100 | Loss 0.0000 | Win/lose count 5.5/1.0 (4.5)\n",
      "Epoch 052/100 | Loss 0.0039 | Win/lose count 11.0/6.0 (5.0)\n",
      "Epoch 053/100 | Loss 0.0000 | Win/lose count 14.5/2.0 (12.5)\n",
      "Epoch 054/100 | Loss 0.0156 | Win/lose count 6.5/2.0 (4.5)\n",
      "Epoch 055/100 | Loss 0.0000 | Win/lose count 1.5/2.0 (-0.5)\n",
      "Epoch 056/100 | Loss 0.0002 | Win/lose count 10.5/2.0 (8.5)\n",
      "Epoch 057/100 | Loss 0.0038 | Win/lose count 11.5/7.0 (4.5)\n",
      "Epoch 058/100 | Loss 0.0000 | Win/lose count 13.0/2.0 (11.0)\n",
      "Epoch 059/100 | Loss 0.0271 | Win/lose count 19.5/3.0 (16.5)\n",
      "Epoch 060/100 | Loss 0.0156 | Win/lose count 11.5/5.0 (6.5)\n",
      "Epoch 061/100 | Loss 0.0384 | Win/lose count 22.5/5.0 (17.5)\n",
      "Epoch 062/100 | Loss 0.0110 | Win/lose count 14.0/0 (14.0)\n",
      "Epoch 063/100 | Loss 0.0325 | Win/lose count 16.0/7.0 (9.0)\n",
      "Epoch 064/100 | Loss 0.0174 | Win/lose count 17.0/6.0 (11.0)\n",
      "Epoch 065/100 | Loss 0.0029 | Win/lose count 6.5/1.0 (5.5)\n",
      "Epoch 066/100 | Loss 0.0110 | Win/lose count 9.0/3.0 (6.0)\n",
      "Epoch 067/100 | Loss 0.0000 | Win/lose count 6.0/1.0 (5.0)\n",
      "Epoch 068/100 | Loss 0.0156 | Win/lose count 2.0/5.0 (-3.0)\n",
      "Epoch 069/100 | Loss 0.0000 | Win/lose count 2.5/2.0 (0.5)\n",
      "Epoch 070/100 | Loss 0.0181 | Win/lose count 15.5/1.0 (14.5)\n",
      "Epoch 071/100 | Loss 0.0049 | Win/lose count 13.0/4.0 (9.0)\n",
      "Epoch 072/100 | Loss 0.0000 | Win/lose count 9.0/3.0 (6.0)\n",
      "Epoch 073/100 | Loss 0.0000 | Win/lose count 1.5/4.0 (-2.5)\n",
      "Epoch 074/100 | Loss 0.0000 | Win/lose count 5.5/0 (5.5)\n",
      "Epoch 075/100 | Loss 0.0003 | Win/lose count 19.5/5.0 (14.5)\n",
      "Epoch 076/100 | Loss 0.0029 | Win/lose count 7.0/5.0 (2.0)\n",
      "Epoch 077/100 | Loss 0.0000 | Win/lose count 2.5/1.0 (1.5)\n",
      "Epoch 078/100 | Loss 0.0000 | Win/lose count 5.5/0 (5.5)\n",
      "Epoch 079/100 | Loss 0.0000 | Win/lose count 2.0/1.0 (1.0)\n",
      "Epoch 080/100 | Loss 0.0000 | Win/lose count 8.5/6.0 (2.5)\n",
      "Epoch 081/100 | Loss 0.0000 | Win/lose count 11.5/0 (11.5)\n",
      "Epoch 082/100 | Loss 0.0000 | Win/lose count 3.0/1.0 (2.0)\n",
      "Epoch 083/100 | Loss 0.0000 | Win/lose count 15.5/5.0 (10.5)\n",
      "Epoch 084/100 | Loss 0.0039 | Win/lose count 12.5/4.0 (8.5)\n",
      "Epoch 085/100 | Loss 0.0019 | Win/lose count 9.0/3.0 (6.0)\n",
      "Epoch 086/100 | Loss 0.0035 | Win/lose count 14.5/5.0 (9.5)\n",
      "Epoch 087/100 | Loss 0.0156 | Win/lose count 8.5/4.0 (4.5)\n",
      "Epoch 088/100 | Loss 0.0000 | Win/lose count 6.0/3.0 (3.0)\n",
      "Epoch 089/100 | Loss 0.0000 | Win/lose count 7.0/2.0 (5.0)\n",
      "Epoch 090/100 | Loss 0.0000 | Win/lose count 4.5/4.0 (0.5)\n",
      "Epoch 091/100 | Loss 0.0002 | Win/lose count 11.5/3.0 (8.5)\n",
      "Epoch 092/100 | Loss 0.0000 | Win/lose count 7.5/3.0 (4.5)\n",
      "Epoch 093/100 | Loss 0.0000 | Win/lose count 10.5/0 (10.5)\n",
      "Epoch 094/100 | Loss 0.0158 | Win/lose count 20.0/4.0 (16.0)\n",
      "Epoch 095/100 | Loss 0.0000 | Win/lose count 11.5/1.0 (10.5)\n",
      "Epoch 096/100 | Loss 0.0029 | Win/lose count 18.5/4.0 (14.5)\n",
      "Epoch 097/100 | Loss 0.0017 | Win/lose count 14.0/6.0 (8.0)\n",
      "Epoch 098/100 | Loss 0.0000 | Win/lose count 14.5/1.0 (13.5)\n",
      "Epoch 099/100 | Loss 0.0000 | Win/lose count 23.5/4.0 (19.5)\n"
     ]
    },
    {
     "data": {
      "text/html": [
       "<video alt=\"test\" controls>\n",
       "                <source src=\"data:video/mp4;base64,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\" type=\"video/mp4\" />\n",
       "             </video>"
      ],
      "text/plain": [
       "<IPython.core.display.HTML object>"
      ]
     },
     "execution_count": 25,
     "metadata": {},
     "output_type": "execute_result"
    }
   ],
   "source": [
    "env = Environment(grid_size=size, max_time=T, temperature=0.3)\n",
    "agent = DQN_CNN(size, lr=.001, epsilon = 0.1, memory_size=100, batch_size = 16)\n",
    "train(agent,env,epochs_train,prefix='cnn_train')\n",
    "HTML(display_videos('cnn_train0.mp4'))"
   ]
  },
  {
   "cell_type": "markdown",
   "metadata": {},
   "source": [
    "***\n",
    "***\n",
    "__Question 9__ Test both algorithms and compare their performances. Which issue(s) do you observe? Observe also different behaviors by changing the temperature."
   ]
  },
  {
   "cell_type": "code",
   "execution_count": 17,
   "metadata": {
    "scrolled": true
   },
   "outputs": [
    {
     "name": "stdout",
     "output_type": "stream",
     "text": [
      "_________________________________________________________________\n",
      "Layer (type)                 Output Shape              Param #   \n",
      "=================================================================\n",
      "conv2d_1 (Conv2D)            (None, 3, 3, 256)         4864      \n",
      "_________________________________________________________________\n",
      "dropout_1 (Dropout)          (None, 3, 3, 256)         0         \n",
      "_________________________________________________________________\n",
      "batch_normalization_1 (Batch (None, 3, 3, 256)         1024      \n",
      "_________________________________________________________________\n",
      "conv2d_2 (Conv2D)            (None, 1, 1, 256)         590080    \n",
      "_________________________________________________________________\n",
      "dropout_2 (Dropout)          (None, 1, 1, 256)         0         \n",
      "_________________________________________________________________\n",
      "batch_normalization_2 (Batch (None, 1, 1, 256)         1024      \n",
      "_________________________________________________________________\n",
      "flatten_1 (Flatten)          (None, 256)               0         \n",
      "_________________________________________________________________\n",
      "batch_normalization_3 (Batch (None, 256)               1024      \n",
      "_________________________________________________________________\n",
      "dense_1 (Dense)              (None, 4)                 1028      \n",
      "=================================================================\n",
      "Total params: 599,044\n",
      "Trainable params: 597,508\n",
      "Non-trainable params: 1,536\n",
      "_________________________________________________________________\n",
      "None\n",
      "_________________________________________________________________\n",
      "Layer (type)                 Output Shape              Param #   \n",
      "=================================================================\n",
      "dense_2 (Dense)              (None, 5, 5, 128)         384       \n",
      "_________________________________________________________________\n",
      "batch_normalization_4 (Batch (None, 5, 5, 128)         512       \n",
      "_________________________________________________________________\n",
      "dense_3 (Dense)              (None, 5, 5, 256)         33024     \n",
      "_________________________________________________________________\n",
      "batch_normalization_5 (Batch (None, 5, 5, 256)         1024      \n",
      "_________________________________________________________________\n",
      "dense_4 (Dense)              (None, 5, 5, 512)         131584    \n",
      "_________________________________________________________________\n",
      "batch_normalization_6 (Batch (None, 5, 5, 512)         2048      \n",
      "_________________________________________________________________\n",
      "dense_5 (Dense)              (None, 5, 5, 256)         131328    \n",
      "_________________________________________________________________\n",
      "flatten_2 (Flatten)          (None, 6400)              0         \n",
      "_________________________________________________________________\n",
      "dense_6 (Dense)              (None, 4)                 25604     \n",
      "=================================================================\n",
      "Total params: 325,508\n",
      "Trainable params: 323,716\n",
      "Non-trainable params: 1,792\n",
      "_________________________________________________________________\n",
      "None\n",
      "Test of the CNN\n",
      "Win/lose count 2.0/0. Average score (2.0)\n",
      "Win/lose count 5.0/0. Average score (3.5)\n",
      "Win/lose count 6.0/1.0. Average score (4.0)\n",
      "Win/lose count 3.0/0. Average score (3.75)\n",
      "Win/lose count 10.0/0. Average score (5.0)\n",
      "Win/lose count 3.5/0. Average score (4.75)\n",
      "Win/lose count 4.0/0. Average score (4.642857142857143)\n",
      "Win/lose count 3.0/0. Average score (4.4375)\n",
      "Win/lose count 1.5/0. Average score (4.111111111111111)\n",
      "Win/lose count 7.0/0. Average score (4.4)\n",
      "Final score: 4.4\n",
      "Test of the FC\n",
      "Win/lose count 1.0/2.0. Average score (-1.0)\n",
      "Win/lose count 0/2.0. Average score (-1.5)\n",
      "Win/lose count 0/0. Average score (-1.0)\n",
      "Win/lose count 1.0/2.0. Average score (-1.0)\n",
      "Win/lose count 3.0/3.0. Average score (-0.8)\n",
      "Win/lose count 1.5/2.0. Average score (-0.75)\n",
      "Win/lose count 3.5/2.0. Average score (-0.42857142857142855)\n",
      "Win/lose count 0/1.0. Average score (-0.5)\n",
      "Win/lose count 2.0/0. Average score (-0.2222222222222222)\n",
      "Win/lose count 1.5/2.0. Average score (-0.25)\n",
      "Final score: -0.25\n"
     ]
    }
   ],
   "source": [
    "env = Environment(grid_size=size, max_time=T,temperature=0.2)\n",
    "agent_cnn = DQN_CNN(size, lr=.001, epsilon = 0.1, memory_size=100, batch_size = 16)\n",
    "agent_cnn.load(name_weights='cnn_trainmodel.h5',name_model='cnn_trainmodel.json')\n",
    "\n",
    "agent_fc = DQN_FC(size, lr=.001, epsilon = 0.1, memory_size=100, batch_size = 16)\n",
    "agent_fc.load(name_weights='fc_trainmodel.h5',name_model='fc_trainmodel.json')\n",
    "print('Test of the CNN')\n",
    "test(agent_cnn,env,epochs_test,prefix='cnn_test')\n",
    "print('Test of the FC')\n",
    "test(agent_fc,env,epochs_test,prefix='fc_test')"
   ]
  },
  {
   "cell_type": "code",
   "execution_count": 54,
   "metadata": {
    "scrolled": false
   },
   "outputs": [
    {
     "data": {
      "text/html": [
       "<video alt=\"test\" controls>\n",
       "                <source src=\"data:video/mp4;base64,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\" type=\"video/mp4\" />\n",
       "             </video>"
      ],
      "text/plain": [
       "<IPython.core.display.HTML object>"
      ]
     },
     "execution_count": 54,
     "metadata": {},
     "output_type": "execute_result"
    }
   ],
   "source": [
    "HTML(display_videos('cnn_test0.mp4'))"
   ]
  },
  {
   "cell_type": "code",
   "execution_count": 55,
   "metadata": {
    "scrolled": true
   },
   "outputs": [
    {
     "data": {
      "text/html": [
       "<video alt=\"test\" controls>\n",
       "                <source src=\"data:video/mp4;base64,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\" type=\"video/mp4\" />\n",
       "             </video>"
      ],
      "text/plain": [
       "<IPython.core.display.HTML object>"
      ]
     },
     "execution_count": 55,
     "metadata": {},
     "output_type": "execute_result"
    }
   ],
   "source": [
    "HTML(display_videos('fc_test0.mp4'))"
   ]
  },
  {
   "cell_type": "markdown",
   "metadata": {},
   "source": [
    "### Remark : \n",
    "\n",
    "I tried several architectures, with different parameters, and different conditions. I still get that globally, CNN seems to produce best results than FC. \n",
    "\n",
    "My guess is that CNN use the properties of convolution to get both local and more global view on the game and thus outputs better results.\n",
    "\n",
    "***"
   ]
  },
  {
   "cell_type": "markdown",
   "metadata": {},
   "source": [
    "***\n",
    "\n",
    "The algorithm tends to not explore the map which can be an issue. We propose two ideas in order to encourage exploration:\n",
    "1. Incorporating a decreasing $\\epsilon$-greedy exploration. You can use the method ```set_epsilon```\n",
    "2. Append via the environment a new state that describes if a cell has been visited or not\n",
    "\n",
    "***\n",
    "__Question 10__ Design a new ```train_explore``` function and environment class ```EnvironmentExploring``` to tackle the issue of exploration.\n",
    "\n"
   ]
  },
  {
   "cell_type": "code",
   "execution_count": 22,
   "metadata": {},
   "outputs": [
    {
     "ename": "NameError",
     "evalue": "name 'action' is not defined",
     "output_type": "error",
     "traceback": [
      "\u001b[0;31m---------------------------------------------------------------------------\u001b[0m",
      "\u001b[0;31mNameError\u001b[0m                                 Traceback (most recent call last)",
      "\u001b[0;32m<ipython-input-22-7e87314b82d9>\u001b[0m in \u001b[0;36m<module>\u001b[0;34m\u001b[0m\n\u001b[1;32m      8\u001b[0m \u001b[0;31m## use those samples of code:\u001b[0m\u001b[0;34m\u001b[0m\u001b[0;34m\u001b[0m\u001b[0;34m\u001b[0m\u001b[0m\n\u001b[1;32m      9\u001b[0m \u001b[0;31m#In train explore:\u001b[0m\u001b[0;34m\u001b[0m\u001b[0;34m\u001b[0m\u001b[0;34m\u001b[0m\u001b[0m\n\u001b[0;32m---> 10\u001b[0;31m \u001b[0mstate\u001b[0m\u001b[0;34m,\u001b[0m \u001b[0mreward\u001b[0m\u001b[0;34m,\u001b[0m \u001b[0mgame_over\u001b[0m \u001b[0;34m=\u001b[0m \u001b[0menv\u001b[0m\u001b[0;34m.\u001b[0m\u001b[0mact\u001b[0m\u001b[0;34m(\u001b[0m\u001b[0maction\u001b[0m\u001b[0;34m,\u001b[0m \u001b[0mtrain\u001b[0m\u001b[0;34m=\u001b[0m\u001b[0;32mTrue\u001b[0m\u001b[0;34m)\u001b[0m\u001b[0;34m\u001b[0m\u001b[0;34m\u001b[0m\u001b[0m\n\u001b[0m\u001b[1;32m     11\u001b[0m \u001b[0;34m\u001b[0m\u001b[0m\n\u001b[1;32m     12\u001b[0m \u001b[0;31m## In Environment exploring:\u001b[0m\u001b[0;34m\u001b[0m\u001b[0;34m\u001b[0m\u001b[0;34m\u001b[0m\u001b[0m\n",
      "\u001b[0;31mNameError\u001b[0m: name 'action' is not defined"
     ]
    }
   ],
   "source": [
    "def train_explore(agent,env,epoch,prefix=''):\n",
    "    pass\n",
    "        \n",
    "class EnvironmentExploring(object):\n",
    "    def __init__(self, grid_size=10, max_time=500, temperature=0.1):\n",
    "        pass\n",
    "    \n",
    "## use those samples of code:\n",
    "#In train explore:\n",
    "state, reward, game_over = env.act(action, train=True)\n",
    "\n",
    "## In Environment exploring:\n",
    "# You will have to change n_state to 3 because you will use one more layer!\n",
    "reward = 0\n",
    "if train:\n",
    "    reward = -self.malus_position[self.x, self.y]\n",
    "self.malus_position[self.x, self.y] = 0.1\n",
    "\n",
    "reward = reward + self.board[self.x, self.y]\n",
    "# 3 \"feature\" states instead of 2\n",
    "state = np.concatenate((self.malus_position.reshape(self.grid_size, self.grid_size,1),\n",
    "                                self.board.reshape(self.grid_size, self.grid_size,1),\n",
    "                        self.position.reshape(self.grid_size, self.grid_size,1)),axis=2)"
   ]
  },
  {
   "cell_type": "code",
   "execution_count": 18,
   "metadata": {},
   "outputs": [],
   "source": [
    "class EnvironmentExploring(object):\n",
    "    def __init__(self, grid_size=10, max_time=500, temperature=0.1):\n",
    "        grid_size = grid_size+4\n",
    "        self.grid_size = grid_size\n",
    "        self.max_time = max_time\n",
    "        self.temperature = temperature\n",
    "\n",
    "        #board on which one plays\n",
    "        self.board = np.zeros((grid_size,grid_size))\n",
    "        self.position = np.zeros((grid_size,grid_size))\n",
    "        self.malus_position = np.zeros((grid_size,grid_size))\n",
    "        \n",
    "        # coordinate of the cat (mouse?)\n",
    "        self.x = 0\n",
    "        self.y = 1\n",
    "\n",
    "        # self time\n",
    "        self.t = 0\n",
    "\n",
    "        self.scale=16\n",
    "\n",
    "        self.to_draw = np.zeros((max_time+2, grid_size*self.scale, grid_size*self.scale, 3))\n",
    "\n",
    "\n",
    "    def draw(self,e):\n",
    "        skvideo.io.vwrite(str(e) + '.mp4', self.to_draw)\n",
    "\n",
    "    def get_frame(self,t):\n",
    "        b = np.zeros((self.grid_size,self.grid_size,3))+128\n",
    "        b[self.board>0,0] = 256\n",
    "        b[self.board < 0, 2] = 256\n",
    "        b[self.x,self.y,:]=256\n",
    "        b[-2:,:,:]=0\n",
    "        b[:,-2:,:]=0\n",
    "        b[:2,:,:]=0\n",
    "        b[:,:2,:]=0\n",
    "        \n",
    "        b =  cv2.resize(b, None, fx=self.scale, fy=self.scale, interpolation=cv2.INTER_NEAREST)\n",
    "\n",
    "        self.to_draw[t,:,:,:]=b\n",
    "\n",
    "\n",
    "    def act(self, action, train=False):\n",
    "        \"\"\"This function returns the new state, reward and decides if the\n",
    "        game ends.\"\"\"\n",
    "\n",
    "        self.get_frame(int(self.t))\n",
    "\n",
    "        self.position = np.zeros((self.grid_size, self.grid_size))\n",
    "\n",
    "        self.position[0:2,:]= -1\n",
    "        self.position[:,0:2] = -1\n",
    "        self.position[-2:, :] = -1\n",
    "        self.position[-2:, :] = -1\n",
    "\n",
    "        self.position[self.x, self.y] = 1\n",
    "        if action == 0:\n",
    "            if self.x == self.grid_size-3:\n",
    "                self.x = self.x-1\n",
    "            else:\n",
    "                self.x = self.x + 1\n",
    "        elif action == 1:\n",
    "            if self.x == 2:\n",
    "                self.x = self.x+1\n",
    "            else:\n",
    "                self.x = self.x-1\n",
    "        elif action == 2:\n",
    "            if self.y == self.grid_size - 3:\n",
    "                self.y = self.y - 1\n",
    "            else:\n",
    "                self.y = self.y + 1\n",
    "        elif action == 3:\n",
    "            if self.y == 2:\n",
    "                self.y = self.y + 1\n",
    "            else:\n",
    "                self.y = self.y - 1\n",
    "        else:\n",
    "            RuntimeError('Error: action not recognized')\n",
    "\n",
    "        reward = 0\n",
    "        if train:\n",
    "            reward = -self.malus_position[self.x, self.y]\n",
    "        self.malus_position[self.x, self.y] = 0.1\n",
    "        self.t = self.t + 1\n",
    "        reward = reward + self.board[self.x, self.y]\n",
    "        self.board[self.x, self.y] = 0\n",
    "        game_over = self.t > self.max_time\n",
    "        state = np.concatenate((self.malus_position.reshape(self.grid_size, self.grid_size,1),\n",
    "                                self.board.reshape(self.grid_size, self.grid_size,1),\n",
    "                                self.position.reshape(self.grid_size, self.grid_size,1)),axis=2)\n",
    "        state = state[self.x-2:self.x+3,self.y-2:self.y+3,:]\n",
    "\n",
    "        return state, reward, game_over\n",
    "\n",
    "    def reset(self):\n",
    "        \"\"\"This function resets the game and returns the initial state\"\"\"\n",
    "\n",
    "        self.x = np.random.randint(3, self.grid_size-3, size=1)[0]\n",
    "        self.y = np.random.randint(3, self.grid_size-3, size=1)[0]\n",
    "\n",
    "\n",
    "        bonus = 0.5*np.random.binomial(1,self.temperature,size=self.grid_size**2)\n",
    "        bonus = bonus.reshape(self.grid_size,self.grid_size)\n",
    "\n",
    "        malus = -1.0*np.random.binomial(1,self.temperature,size=self.grid_size**2)\n",
    "        malus = malus.reshape(self.grid_size, self.grid_size)\n",
    "\n",
    "        self.to_draw = np.zeros((self.max_time+2, self.grid_size*self.scale, self.grid_size*self.scale, 3))\n",
    "\n",
    "\n",
    "        malus[bonus>0]=0\n",
    "\n",
    "        self.board = bonus + malus\n",
    "\n",
    "        self.malus_position = np.zeros((self.grid_size,self.grid_size))\n",
    "        self.position = np.zeros((self.grid_size, self.grid_size))\n",
    "        self.position[0:2,:]= -1\n",
    "        self.position[:,0:2] = -1\n",
    "        self.position[-2:, :] = -1\n",
    "        self.position[-2:, :] = -1\n",
    "        self.board[self.x,self.y] = 0\n",
    "        self.t = 0\n",
    "\n",
    "        state = np.concatenate((self.malus_position.reshape(self.grid_size, self.grid_size,1),\n",
    "                                self.board.reshape(self.grid_size, self.grid_size,1),\n",
    "                                self.position.reshape(self.grid_size, self.grid_size,1)),axis=2)\n",
    "\n",
    "        state = state[self.x - 2:self.x + 3, self.y - 2:self.y + 3, :]\n",
    "        return state"
   ]
  },
  {
   "cell_type": "code",
   "execution_count": 19,
   "metadata": {},
   "outputs": [],
   "source": [
    "def train_explore(agent,env,epoch,prefix=''):\n",
    "    # Number of won games\n",
    "    score = 0\n",
    "    loss = 0\n",
    "\n",
    "    for e in range(epoch):\n",
    "        # At each epoch, we restart to a fresh game and get the initial state\n",
    "        state = env.reset()\n",
    "        # This assumes that the games will terminate\n",
    "        game_over = False\n",
    "\n",
    "        win = 0\n",
    "        lose = 0\n",
    "\n",
    "        while not game_over:\n",
    "            # The agent performs an action\n",
    "            action = agent.act(state)\n",
    "\n",
    "            # Apply an action to the environment, get the next state, the reward\n",
    "            # and if the games end\n",
    "            prev_state = state\n",
    "            state, reward, game_over = env.act(action, train=True)\n",
    "\n",
    "            # Update the counters\n",
    "            if reward > 0:\n",
    "                win = win + reward\n",
    "            if reward < 0:\n",
    "                lose = lose -reward\n",
    "\n",
    "            # Apply the reinforcement strategy\n",
    "            loss = agent.reinforce(prev_state, state,  action, reward, game_over)\n",
    "\n",
    "        # Save as a mp4\n",
    "        if e % 10 == 0:\n",
    "            env.draw(prefix+str(e))\n",
    "\n",
    "        # Update stats\n",
    "        score += win-lose\n",
    "\n",
    "        print(\"Epoch {:03d}/{:03d} | Loss {:.4f} | Win/lose count {}/{} ({})\"\n",
    "              .format(e, epoch, loss, win, lose, win-lose))\n",
    "        agent.save(name_weights=prefix+'model.h5',name_model=prefix+'model.json')"
   ]
  },
  {
   "cell_type": "code",
   "execution_count": 21,
   "metadata": {},
   "outputs": [],
   "source": [
    "epochs_train = 150"
   ]
  },
  {
   "cell_type": "code",
   "execution_count": 22,
   "metadata": {},
   "outputs": [
    {
     "name": "stdout",
     "output_type": "stream",
     "text": [
      "_________________________________________________________________\n",
      "Layer (type)                 Output Shape              Param #   \n",
      "=================================================================\n",
      "conv2d_3 (Conv2D)            (None, 3, 3, 256)         7168      \n",
      "_________________________________________________________________\n",
      "dropout_3 (Dropout)          (None, 3, 3, 256)         0         \n",
      "_________________________________________________________________\n",
      "conv2d_4 (Conv2D)            (None, 1, 1, 256)         590080    \n",
      "_________________________________________________________________\n",
      "dropout_4 (Dropout)          (None, 1, 1, 256)         0         \n",
      "_________________________________________________________________\n",
      "flatten_3 (Flatten)          (None, 256)               0         \n",
      "_________________________________________________________________\n",
      "dense_7 (Dense)              (None, 4)                 1028      \n",
      "=================================================================\n",
      "Total params: 598,276\n",
      "Trainable params: 598,276\n",
      "Non-trainable params: 0\n",
      "_________________________________________________________________\n",
      "None\n",
      "Epoch 000/150 | Loss 0.0245 | Win/lose count 12.0/26.300000000000075 (-14.300000000000075)\n",
      "Epoch 001/150 | Loss 0.0076 | Win/lose count 10.0/24.700000000000017 (-14.700000000000017)\n",
      "Epoch 002/150 | Loss 0.0033 | Win/lose count 6.5/18.7 (-12.2)\n",
      "Epoch 003/150 | Loss 0.0064 | Win/lose count 10.5/16.199999999999964 (-5.699999999999964)\n",
      "Epoch 004/150 | Loss 0.0033 | Win/lose count 16.5/16.699999999999978 (-0.19999999999997797)\n",
      "Epoch 005/150 | Loss 0.0108 | Win/lose count 16.0/13.599999999999971 (2.4000000000000288)\n",
      "Epoch 006/150 | Loss 0.0029 | Win/lose count 14.0/17.399999999999984 (-3.3999999999999844)\n",
      "Epoch 007/150 | Loss 0.0182 | Win/lose count 15.0/19.900000000000034 (-4.900000000000034)\n",
      "Epoch 008/150 | Loss 0.0176 | Win/lose count 13.0/20.200000000000006 (-7.200000000000006)\n",
      "Epoch 009/150 | Loss 0.0027 | Win/lose count 14.5/14.099999999999973 (0.400000000000027)\n",
      "Epoch 010/150 | Loss 0.0026 | Win/lose count 10.5/16.199999999999964 (-5.699999999999964)\n",
      "Epoch 011/150 | Loss 0.0048 | Win/lose count 14.0/16.099999999999973 (-2.099999999999973)\n",
      "Epoch 012/150 | Loss 0.0025 | Win/lose count 4.0/21.30000000000004 (-17.30000000000004)\n",
      "Epoch 013/150 | Loss 0.0099 | Win/lose count 15.5/14.799999999999976 (0.7000000000000242)\n",
      "Epoch 014/150 | Loss 0.0182 | Win/lose count 12.5/14.79999999999997 (-2.2999999999999705)\n",
      "Epoch 015/150 | Loss 0.0026 | Win/lose count 4.0/19.29999999999999 (-15.29999999999999)\n",
      "Epoch 016/150 | Loss 0.0026 | Win/lose count 9.0/19.90000000000003 (-10.90000000000003)\n",
      "Epoch 017/150 | Loss 0.0024 | Win/lose count 7.0/17.399999999999988 (-10.399999999999988)\n",
      "Epoch 018/150 | Loss 0.0024 | Win/lose count 13.0/21.00000000000004 (-8.000000000000039)\n",
      "Epoch 019/150 | Loss 0.0025 | Win/lose count 8.0/17.399999999999977 (-9.399999999999977)\n",
      "Epoch 020/150 | Loss 0.0021 | Win/lose count 8.0/17.099999999999973 (-9.099999999999973)\n",
      "Epoch 021/150 | Loss 0.0161 | Win/lose count 11.0/15.299999999999969 (-4.299999999999969)\n",
      "Epoch 022/150 | Loss 0.0025 | Win/lose count 4.0/19.30000000000001 (-15.300000000000011)\n",
      "Epoch 023/150 | Loss 0.0025 | Win/lose count 3.5/16.79999999999997 (-13.299999999999969)\n",
      "Epoch 024/150 | Loss 0.0046 | Win/lose count 16.5/13.299999999999972 (3.2000000000000277)\n",
      "Epoch 025/150 | Loss 0.0026 | Win/lose count 9.0/13.899999999999967 (-4.899999999999967)\n",
      "Epoch 026/150 | Loss 0.0025 | Win/lose count 3.0/18.19999999999999 (-15.199999999999989)\n",
      "Epoch 027/150 | Loss 0.0025 | Win/lose count 9.5/17.799999999999976 (-8.299999999999976)\n",
      "Epoch 028/150 | Loss 0.0024 | Win/lose count 9.5/18.999999999999986 (-9.499999999999986)\n",
      "Epoch 029/150 | Loss 0.0296 | Win/lose count 14.5/15.79999999999997 (-1.2999999999999705)\n",
      "Epoch 030/150 | Loss 0.0025 | Win/lose count 13.5/16.99999999999997 (-3.4999999999999716)\n",
      "Epoch 031/150 | Loss 0.0029 | Win/lose count 12.0/15.699999999999964 (-3.6999999999999638)\n",
      "Epoch 032/150 | Loss 0.0027 | Win/lose count 14.0/14.19999999999997 (-0.19999999999997087)\n",
      "Epoch 033/150 | Loss 0.0062 | Win/lose count 16.0/17.999999999999996 (-1.9999999999999964)\n",
      "Epoch 034/150 | Loss 0.0021 | Win/lose count 12.5/16.699999999999974 (-4.199999999999974)\n",
      "Epoch 035/150 | Loss 0.0586 | Win/lose count 14.5/11.899999999999977 (2.6000000000000227)\n",
      "Epoch 036/150 | Loss 0.0436 | Win/lose count 10.0/16.199999999999967 (-6.199999999999967)\n",
      "Epoch 037/150 | Loss 0.0052 | Win/lose count 10.0/16.69999999999997 (-6.699999999999971)\n",
      "Epoch 038/150 | Loss 0.0029 | Win/lose count 17.0/18.200000000000006 (-1.2000000000000064)\n",
      "Epoch 039/150 | Loss 0.0025 | Win/lose count 18.0/16.399999999999974 (1.6000000000000263)\n",
      "Epoch 040/150 | Loss 0.0042 | Win/lose count 6.0/20.700000000000035 (-14.700000000000035)\n",
      "Epoch 041/150 | Loss 0.0025 | Win/lose count 4.0/18.599999999999994 (-14.599999999999994)\n",
      "Epoch 042/150 | Loss 0.0236 | Win/lose count 21.0/15.399999999999975 (5.6000000000000245)\n",
      "Epoch 043/150 | Loss 0.0173 | Win/lose count 11.0/16.799999999999983 (-5.799999999999983)\n",
      "Epoch 044/150 | Loss 0.0177 | Win/lose count 15.5/17.599999999999994 (-2.0999999999999943)\n",
      "Epoch 045/150 | Loss 0.0017 | Win/lose count 16.0/15.299999999999965 (0.7000000000000348)\n",
      "Epoch 046/150 | Loss 0.0025 | Win/lose count 10.0/20.000000000000025 (-10.000000000000025)\n",
      "Epoch 047/150 | Loss 0.0022 | Win/lose count 12.0/19.29999999999999 (-7.29999999999999)\n",
      "Epoch 048/150 | Loss 0.0025 | Win/lose count 11.5/14.699999999999964 (-3.1999999999999638)\n",
      "Epoch 049/150 | Loss 0.0025 | Win/lose count 6.5/17.899999999999988 (-11.399999999999988)\n",
      "Epoch 050/150 | Loss 0.0181 | Win/lose count 11.5/15.299999999999969 (-3.7999999999999687)\n",
      "Epoch 051/150 | Loss 0.0022 | Win/lose count 12.5/18.80000000000002 (-6.3000000000000185)\n",
      "Epoch 052/150 | Loss 0.0078 | Win/lose count 14.5/12.599999999999975 (1.9000000000000252)\n",
      "Epoch 053/150 | Loss 0.0013 | Win/lose count 13.0/14.799999999999967 (-1.799999999999967)\n",
      "Epoch 054/150 | Loss 0.0025 | Win/lose count 4.0/21.000000000000032 (-17.000000000000032)\n",
      "Epoch 055/150 | Loss 0.0024 | Win/lose count 8.5/20.700000000000035 (-12.200000000000035)\n",
      "Epoch 056/150 | Loss 0.0024 | Win/lose count 9.5/16.999999999999975 (-7.499999999999975)\n",
      "Epoch 057/150 | Loss 0.0025 | Win/lose count 6.0/17.099999999999973 (-11.099999999999973)\n",
      "Epoch 058/150 | Loss 0.0180 | Win/lose count 5.5/20.500000000000025 (-15.000000000000025)\n",
      "Epoch 059/150 | Loss 0.0024 | Win/lose count 16.0/14.999999999999963 (1.0000000000000373)\n",
      "Epoch 060/150 | Loss 0.0024 | Win/lose count 7.0/22.00000000000004 (-15.000000000000039)\n",
      "Epoch 061/150 | Loss 0.0025 | Win/lose count 5.0/17.899999999999988 (-12.899999999999988)\n",
      "Epoch 062/150 | Loss 0.0025 | Win/lose count 9.5/17.099999999999973 (-7.599999999999973)\n",
      "Epoch 063/150 | Loss 0.0017 | Win/lose count 7.5/22.000000000000046 (-14.500000000000046)\n",
      "Epoch 064/150 | Loss 0.0049 | Win/lose count 20.5/14.799999999999983 (5.700000000000017)\n",
      "Epoch 065/150 | Loss 0.0025 | Win/lose count 8.0/15.399999999999961 (-7.399999999999961)\n",
      "Epoch 066/150 | Loss 0.0025 | Win/lose count 4.0/19.100000000000005 (-15.100000000000005)\n",
      "Epoch 067/150 | Loss 0.0019 | Win/lose count 18.5/15.299999999999965 (3.200000000000035)\n",
      "Epoch 068/150 | Loss 0.0025 | Win/lose count 5.5/17.69999999999998 (-12.199999999999982)\n",
      "Epoch 069/150 | Loss 0.0025 | Win/lose count 1.5/19.600000000000012 (-18.100000000000012)\n",
      "Epoch 070/150 | Loss 0.0092 | Win/lose count 12.5/15.999999999999964 (-3.4999999999999645)\n",
      "Epoch 071/150 | Loss 0.0025 | Win/lose count 11.0/16.899999999999977 (-5.899999999999977)\n",
      "Epoch 072/150 | Loss 0.0182 | Win/lose count 12.5/19.69999999999999 (-7.199999999999989)\n",
      "Epoch 073/150 | Loss 0.0022 | Win/lose count 6.5/16.89999999999997 (-10.39999999999997)\n",
      "Epoch 074/150 | Loss 0.0018 | Win/lose count 14.0/17.89999999999999 (-3.8999999999999915)\n",
      "Epoch 075/150 | Loss 0.0025 | Win/lose count 16.0/14.799999999999967 (1.200000000000033)\n",
      "Epoch 076/150 | Loss 0.0025 | Win/lose count 5.5/18.6 (-13.100000000000001)\n",
      "Epoch 077/150 | Loss 0.0025 | Win/lose count 7.5/19.200000000000003 (-11.700000000000003)\n",
      "Epoch 078/150 | Loss 0.0021 | Win/lose count 12.0/18.600000000000016 (-6.600000000000016)\n",
      "Epoch 079/150 | Loss 0.0025 | Win/lose count 5.5/19.700000000000003 (-14.200000000000003)\n"
     ]
    },
    {
     "name": "stdout",
     "output_type": "stream",
     "text": [
      "Epoch 080/150 | Loss 0.0025 | Win/lose count 6.5/17.59999999999998 (-11.09999999999998)\n",
      "Epoch 081/150 | Loss 0.0022 | Win/lose count 15.0/16.299999999999965 (-1.2999999999999652)\n",
      "Epoch 082/150 | Loss 0.0025 | Win/lose count 5.5/17.699999999999985 (-12.199999999999985)\n",
      "Epoch 083/150 | Loss 0.0180 | Win/lose count 11.0/21.900000000000023 (-10.900000000000023)\n",
      "Epoch 084/150 | Loss 0.0025 | Win/lose count 8.0/20.40000000000003 (-12.40000000000003)\n",
      "Epoch 085/150 | Loss 0.0025 | Win/lose count 10.0/16.19999999999996 (-6.19999999999996)\n",
      "Epoch 086/150 | Loss 0.0024 | Win/lose count 8.5/16.599999999999973 (-8.099999999999973)\n",
      "Epoch 087/150 | Loss 0.0484 | Win/lose count 8.5/18.400000000000006 (-9.900000000000006)\n",
      "Epoch 088/150 | Loss 0.0025 | Win/lose count 10.5/17.999999999999993 (-7.499999999999993)\n",
      "Epoch 089/150 | Loss 0.0025 | Win/lose count 3.0/19.300000000000008 (-16.300000000000008)\n",
      "Epoch 090/150 | Loss 0.0480 | Win/lose count 11.0/21.10000000000001 (-10.100000000000009)\n",
      "Epoch 091/150 | Loss 0.0331 | Win/lose count 6.5/17.999999999999993 (-11.499999999999993)\n",
      "Epoch 092/150 | Loss 0.0050 | Win/lose count 14.0/12.499999999999975 (1.5000000000000249)\n",
      "Epoch 093/150 | Loss 0.0022 | Win/lose count 14.0/17.699999999999996 (-3.6999999999999957)\n",
      "Epoch 094/150 | Loss 0.0060 | Win/lose count 16.5/17.19999999999997 (-0.6999999999999709)\n",
      "Epoch 095/150 | Loss 0.0025 | Win/lose count 7.5/21.30000000000004 (-13.80000000000004)\n",
      "Epoch 096/150 | Loss 0.0022 | Win/lose count 8.0/16.099999999999962 (-8.099999999999962)\n",
      "Epoch 097/150 | Loss 0.0018 | Win/lose count 6.0/21.700000000000024 (-15.700000000000024)\n",
      "Epoch 098/150 | Loss 0.0025 | Win/lose count 8.5/19.300000000000008 (-10.800000000000008)\n",
      "Epoch 099/150 | Loss 0.0025 | Win/lose count 6.5/16.399999999999963 (-9.899999999999963)\n",
      "Epoch 100/150 | Loss 0.0015 | Win/lose count 17.5/14.999999999999973 (2.5000000000000266)\n",
      "Epoch 101/150 | Loss 0.0025 | Win/lose count 9.5/16.999999999999975 (-7.499999999999975)\n",
      "Epoch 102/150 | Loss 0.0025 | Win/lose count 7.0/18.799999999999997 (-11.799999999999997)\n",
      "Epoch 103/150 | Loss 0.0025 | Win/lose count 4.0/19.300000000000004 (-15.300000000000004)\n",
      "Epoch 104/150 | Loss 0.0025 | Win/lose count 5.0/20.70000000000003 (-15.700000000000031)\n",
      "Epoch 105/150 | Loss 0.0025 | Win/lose count 6.0/22.500000000000057 (-16.500000000000057)\n",
      "Epoch 106/150 | Loss 0.0020 | Win/lose count 9.5/15.399999999999961 (-5.899999999999961)\n",
      "Epoch 107/150 | Loss 0.0024 | Win/lose count 9.5/18.499999999999993 (-8.999999999999993)\n",
      "Epoch 108/150 | Loss 0.0025 | Win/lose count 5.0/19.000000000000007 (-14.000000000000007)\n",
      "Epoch 109/150 | Loss 0.0025 | Win/lose count 10.5/14.799999999999963 (-4.299999999999963)\n",
      "Epoch 110/150 | Loss 0.0025 | Win/lose count 5.5/16.899999999999974 (-11.399999999999974)\n",
      "Epoch 111/150 | Loss 0.0023 | Win/lose count 9.0/18.90000000000001 (-9.90000000000001)\n",
      "Epoch 112/150 | Loss 0.0175 | Win/lose count 15.5/15.399999999999968 (0.10000000000003162)\n",
      "Epoch 113/150 | Loss 0.0017 | Win/lose count 10.5/16.699999999999978 (-6.199999999999978)\n",
      "Epoch 114/150 | Loss 0.0025 | Win/lose count 5.0/18.5 (-13.5)\n",
      "Epoch 115/150 | Loss 0.0012 | Win/lose count 8.0/17.399999999999984 (-9.399999999999984)\n",
      "Epoch 116/150 | Loss 0.0025 | Win/lose count 3.0/18.799999999999997 (-15.799999999999997)\n",
      "Epoch 117/150 | Loss 0.0179 | Win/lose count 8.0/20.200000000000014 (-12.200000000000014)\n",
      "Epoch 118/150 | Loss 0.0025 | Win/lose count 4.0/22.10000000000005 (-18.10000000000005)\n",
      "Epoch 119/150 | Loss 0.0025 | Win/lose count 9.0/17.299999999999976 (-8.299999999999976)\n",
      "Epoch 120/150 | Loss 0.0022 | Win/lose count 10.5/18.60000000000001 (-8.100000000000009)\n",
      "Epoch 121/150 | Loss 0.0084 | Win/lose count 12.0/17.39999999999998 (-5.399999999999981)\n",
      "Epoch 122/150 | Loss 0.0047 | Win/lose count 11.0/19.199999999999996 (-8.199999999999996)\n",
      "Epoch 123/150 | Loss 0.0250 | Win/lose count 15.5/15.599999999999964 (-0.09999999999996412)\n",
      "Epoch 124/150 | Loss 0.0025 | Win/lose count 8.5/16.499999999999968 (-7.999999999999968)\n",
      "Epoch 125/150 | Loss 0.0025 | Win/lose count 2.5/19.400000000000006 (-16.900000000000006)\n",
      "Epoch 126/150 | Loss 0.0025 | Win/lose count 3.5/20.40000000000002 (-16.90000000000002)\n",
      "Epoch 127/150 | Loss 0.0025 | Win/lose count 7.0/18.9 (-11.899999999999999)\n",
      "Epoch 128/150 | Loss 0.0025 | Win/lose count 4.5/21.000000000000036 (-16.500000000000036)\n",
      "Epoch 129/150 | Loss 0.0025 | Win/lose count 7.0/17.899999999999988 (-10.899999999999988)\n",
      "Epoch 130/150 | Loss 0.0180 | Win/lose count 8.5/20.50000000000002 (-12.000000000000021)\n",
      "Epoch 131/150 | Loss 0.0234 | Win/lose count 8.0/21.50000000000004 (-13.500000000000039)\n",
      "Epoch 132/150 | Loss 0.0024 | Win/lose count 17.0/17.499999999999993 (-0.4999999999999929)\n",
      "Epoch 133/150 | Loss 0.0054 | Win/lose count 14.0/17.19999999999999 (-3.1999999999999886)\n",
      "Epoch 134/150 | Loss 0.0025 | Win/lose count 11.0/17.799999999999986 (-6.7999999999999865)\n",
      "Epoch 135/150 | Loss 0.0025 | Win/lose count 3.5/20.700000000000024 (-17.200000000000024)\n",
      "Epoch 136/150 | Loss 0.0025 | Win/lose count 9.0/14.899999999999963 (-5.899999999999963)\n",
      "Epoch 137/150 | Loss 0.0025 | Win/lose count 3.0/18.799999999999997 (-15.799999999999997)\n",
      "Epoch 138/150 | Loss 0.0025 | Win/lose count 6.5/21.500000000000046 (-15.000000000000046)\n",
      "Epoch 139/150 | Loss 0.0025 | Win/lose count 2.0/21.300000000000036 (-19.300000000000036)\n",
      "Epoch 140/150 | Loss 0.0018 | Win/lose count 9.5/15.999999999999966 (-6.499999999999966)\n",
      "Epoch 141/150 | Loss 0.0022 | Win/lose count 16.0/18.60000000000001 (-2.6000000000000085)\n",
      "Epoch 142/150 | Loss 0.0063 | Win/lose count 20.0/21.200000000000045 (-1.2000000000000455)\n",
      "Epoch 143/150 | Loss 0.0296 | Win/lose count 16.0/16.899999999999984 (-0.8999999999999844)\n",
      "Epoch 144/150 | Loss 0.0072 | Win/lose count 6.5/19.500000000000018 (-13.000000000000018)\n",
      "Epoch 145/150 | Loss 0.0025 | Win/lose count 4.5/20.40000000000002 (-15.90000000000002)\n",
      "Epoch 146/150 | Loss 0.0034 | Win/lose count 6.5/17.99999999999999 (-11.49999999999999)\n",
      "Epoch 147/150 | Loss 0.0025 | Win/lose count 8.0/18.09999999999999 (-10.09999999999999)\n",
      "Epoch 148/150 | Loss 0.0019 | Win/lose count 15.5/11.199999999999976 (4.300000000000024)\n",
      "Epoch 149/150 | Loss 0.0174 | Win/lose count 13.0/16.599999999999977 (-3.5999999999999766)\n"
     ]
    }
   ],
   "source": [
    "# Training\n",
    "env = EnvironmentExploring(grid_size=size, max_time=T, temperature=0.25)\n",
    "agent = DQN_CNN(size, lr=.0002, epsilon = 0.2, memory_size=100, batch_size = 16,n_state=3)\n",
    "train_explore(agent, env, epochs_train, prefix='cnn_train_explore')\n",
    "#HTML(display_videos('cnn_train_explore9.mp4'))"
   ]
  },
  {
   "cell_type": "code",
   "execution_count": 23,
   "metadata": {
    "scrolled": false
   },
   "outputs": [
    {
     "data": {
      "text/html": [
       "<video alt=\"test\" controls>\n",
       "                <source src=\"data:video/mp4;base64,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\" type=\"video/mp4\" />\n",
       "             </video>"
      ],
      "text/plain": [
       "<IPython.core.display.HTML object>"
      ]
     },
     "execution_count": 23,
     "metadata": {},
     "output_type": "execute_result"
    }
   ],
   "source": [
    "HTML(display_videos('cnn_train_explore150.mp4'))"
   ]
  },
  {
   "cell_type": "code",
   "execution_count": 24,
   "metadata": {
    "scrolled": false
   },
   "outputs": [
    {
     "name": "stdout",
     "output_type": "stream",
     "text": [
      "_________________________________________________________________\n",
      "Layer (type)                 Output Shape              Param #   \n",
      "=================================================================\n",
      "conv2d_5 (Conv2D)            (None, 3, 3, 256)         7168      \n",
      "_________________________________________________________________\n",
      "dropout_5 (Dropout)          (None, 3, 3, 256)         0         \n",
      "_________________________________________________________________\n",
      "conv2d_6 (Conv2D)            (None, 1, 1, 256)         590080    \n",
      "_________________________________________________________________\n",
      "dropout_6 (Dropout)          (None, 1, 1, 256)         0         \n",
      "_________________________________________________________________\n",
      "flatten_4 (Flatten)          (None, 256)               0         \n",
      "_________________________________________________________________\n",
      "dense_8 (Dense)              (None, 4)                 1028      \n",
      "=================================================================\n",
      "Total params: 598,276\n",
      "Trainable params: 598,276\n",
      "Non-trainable params: 0\n",
      "_________________________________________________________________\n",
      "None\n",
      "Win/lose count 10.5/1.0. Average score (9.5)\n",
      "Win/lose count 6.5/2.0. Average score (7.0)\n",
      "Win/lose count 10.0/0. Average score (8.0)\n",
      "Win/lose count 3.0/0. Average score (6.75)\n",
      "Win/lose count 12.5/3.0. Average score (7.3)\n",
      "Win/lose count 24.5/0. Average score (10.166666666666666)\n",
      "Win/lose count 5.0/1.0. Average score (9.285714285714286)\n",
      "Win/lose count 13.0/2.0. Average score (9.5)\n",
      "Win/lose count 15.5/1.0. Average score (10.055555555555555)\n",
      "Win/lose count 4.5/0. Average score (9.5)\n",
      "Final score: 9.5\n"
     ]
    }
   ],
   "source": [
    "# Evaluation\n",
    "\n",
    "env = EnvironmentExploring(grid_size=size, max_time=T, temperature=0.3)\n",
    "agent_explore = DQN_CNN(size, lr=.0002, epsilon = 0.2, memory_size=100, batch_size = 16,n_state=3)\n",
    "agent_explore.load(name_weights='cnn_train_exploremodel.h5',name_model='cnn_train_exploremodel.json')\n",
    "test(agent_explore,env,epochs_test,prefix='cnn_test_explore')\n"
   ]
  },
  {
   "cell_type": "code",
   "execution_count": 27,
   "metadata": {},
   "outputs": [
    {
     "data": {
      "text/html": [
       "<video alt=\"test\" controls>\n",
       "                <source src=\"data:video/mp4;base64,AAAAIGZ0eXBpc29tAAACAGlzb21pc28yYXZjMW1wNDEAAAAIZnJlZQAAGK9tZGF0AAACnwYF//+b3EXpvebZSLeWLNgg2SPu73gyNjQgLSBjb3JlIDE1MiAtIEguMjY0L01QRUctNCBBVkMgY29kZWMgLSBDb3B5bGVmdCAyMDAzLTIwMTcgLSBodHRwOi8vd3d3LnZpZGVvbGFuLm9yZy94MjY0Lmh0bWwgLSBvcHRpb25zOiBjYWJhYz0xIHJlZj0zIGRlYmxvY2s9MTowOjAgYW5hbHlzZT0weDE6MHgxMTEgbWU9aGV4IHN1Ym1lPTcgcHN5PTEgcHN5X3JkPTEuMDA6MC4wMCBtaXhlZF9yZWY9MSBtZV9yYW5nZT0xNiBjaHJvbWFfbWU9MSB0cmVsbGlzPTEgOHg4ZGN0PTAgY3FtPTAgZGVhZHpvbmU9MjEsMTEgZmFzdF9wc2tpcD0xIGNocm9tYV9xcF9vZmZzZXQ9NCB0aHJlYWRzPTggbG9va2FoZWFkX3RocmVhZHM9MSBzbGljZWRfdGhyZWFkcz0wIG5yPTAgZGVjaW1hdGU9MSBpbnRlcmxhY2VkPTAgYmx1cmF5X2NvbXBhdD0wIGNvbnN0cmFpbmVkX2ludHJhPTAgYmZyYW1lcz0zIGJfcHlyYW1pZD0yIGJfYWRhcHQ9MSBiX2JpYXM9MCBkaXJlY3Q9MSB3ZWlnaHRiPTEgb3Blbl9nb3A9MCB3ZWlnaHRwPTIga2V5aW50PTI1MCBrZXlpbnRfbWluPTI1IHNjZW5lY3V0PTQwIGludHJhX3JlZnJlc2g9MCByY19sb29rYWhlYWQ9NDAgcmM9Y3JmIG1idHJlZT0xIGNyZj0yMy4wIHFjb21wPTAuNjAgcXBtaW49MCBxcG1heD02OSBxcHN0ZXA9NCBpcF9yYXRpbz0xLjQwIGFxPTE6MS4wMACAAAADPWWIhAA3//72h/gU2VgT/lm//Q1/3I/bj6z9cWMhBN9aryHowBkvtR/m/6xRbOmelAf34AiUAHNuGcKScOL/wKS3VvgUy2E5FS5ogTANA3El020J/iJevm0gTeCDFkFKGKmqZEmPTtHNF27o9S+YwQI+5KcIG7cwT9OYgyM4Mxp7SrVW/2b6GevT/y5hdCgFQ1xTSPNS67Bn5ykYUw4EnW+EpQ1ybSPfS7Kh3SRG6Cab416hv47oXlZ9cZ1lyDzu3ce/0KiPSO8OlniZl6yP1peEHEsg5x4R6KAodA47mr26khVhYOTSDngqSk1iqsAFtcd+JPZ2F2MdweUr6SJxBYSuGttIpNMyFogDrud1OqVPOgEpTXntvIBAJYBZmGNvDL5+ULLw95rc4e5sMgdrrsoYfi7I/iOMeXzMJgYN7BbZ8os/UmMA5nwlw0Wpqo9ySh2dGAQwDCbgzi83XX1lXaOWQB6sZCWLVV22lKsR99mXBekHr8DfxTi6QAwKGZr0CXezPHzIAVFbWo5hpHD6T/Z2N8gfwsWxMFRhZccwWK9kEW5FHn01GugAxwCiYcwDL5dFn4JGea5ecqBsIjEHs/PkSaH92tIsyYftGVfmwFe+Qe7cv5KFIElaplqnACUuA9s5aVTHZWcWUiwP2v3gqU2h+oUOHfAFyOc1+GY6peB5WCh3x8O+rce9BnyfS565SHdBuJj+70ONOAH5aVCWvMHYU702ofAf4QAKJd3aufJ0kGNPi2sIqVXgCyUcg5EVbx1gnIyAAe8RZjWQ7nnSeRO7b3RCDBesGfkGmsQV4uMGOTlOQ8RNl1oLAMW7dUniFePQuawjXAnMAQe6KKLJ2OUL9LSxk1Evj2ngH6ZKR/LbLwychets/BIxdr3Z3cZ5uigsn5wanPJD7dKvcxJctufn40BVkqsJ/df4VqqxDuiAEv4ln1OdTQb98qTMdf9Z4uii2uuAt+OfVKXYnvebVjN+q7xCAFe5ZbPrNp0adMbIzzw5TS3WkaS/ELf+y+VdO/QPAu+iOoT33l5F9+I+7k2aXEwH8PCVJ9giD82JgtkGyTWD+WVz0tYDRx4Zusof6174F4ZLUKsG81gANqEAAAAZQZoibEN//qeEABYeBVMf6OJ/lsm8fPpGYAAAAA8BnkF5Cv8AEd8mh1oPvgkAAAAaQZpGPCGTKYQz//6eEACDfEP8FgDgVxNqEhwAAAAQQZ5kalPC/wAUdlLm6xY0RwAAAA8BnoN0Qr8AG6sq7vN278EAAAAQAZ6FakK/ABHZXRVZx+BSYQAAABlBmodJqEFomUwIb//+p4QADd+wevZnwRb3AAAAH0GaqUnhClJlMFESw3/+p4QADY++z3bLuZWaprc8e4AAAAAQAZ7IakK/AAsTXznWhhfpQAAAABlBmspJ4Q6JlMCG//6nhAAId8dPqONCQ+LBAAAAH0Ga7EnhDyZTBRU8N//+p4QABY/dT91pZmptz7zayMgAAAAQAZ8LakK/AAR2WQw+gJB+2AAAABxBmw5J4Q8mUwU8O//+qZYAAu2lmLTNAd32Y95fAAAADwGfLWpCvwAEt2eW4bNrYwAAACJBmzJJ4Q8mUwIb//6nhAAJt8OfMssTI2aJ/rD7egqo53nVAAAAFkGfUEURPC//AAXSfXtDE/dq1JQTYoAAAAAPAZ9vdEK/AAT7LBg2Y4rtAAAAEAGfcWpCvwAHxZg8mB6+VIEAAAAXQZt2SahBaJlMCG///qeEAAZP5hfbZ4AAAAAOQZ+URREsL/8AA7X7sGAAAAAQAZ+zdEK/AAexQ3suq/hjwQAAAA8Bn7VqQr8AB7FDdhnq0IEAAAAaQZu3SahBbJlMCG///qeEAA7Rxn+q4DH4t6EAAAAZQZvYSeEKUmUwId/+qZYAC7fIM0AfR/sWkQAAABxBm/xJ4Q6JlMCG//6nhAAjqsCzbbMH+C//pouAAAAAEUGeGkURPC//ABWWUudiIoSdAAAADwGeOXRCvwAdCxWMIVbrQAAAABABnjtqQr8AEtlcirwBQHKBAAAAHEGaP0moQWiZTAhv//6nhAAJt8jgE1/hOC3QtKEAAAASQZ5dRREsK/8AB8QXnOsnyi+AAAAADgGefmpCvwAHxr6cDaqjAAAAGUGaYkmoQWyZTAhv//6nhAAJqtpa03//s6cAAAASQZ6ARRUsK/8AB8Wd9Y/BftHAAAAADgGeoWpCvwAHxZ4tn6vvAAAAGkGapUmoQWyZTAhv//6nhAAO0cZ/quAx+LegAAAAEUGew0UVLCv/AAxDtP+jkiuPAAAADgGe5GpCvwAMQ7Vc1649AAAAGkGa5kmoQWyZTAh3//6plgALt8gzQB9H+xaRAAAAGkGbCknhClJlMCG//qeEABdfdT9wU7CaJn7xAAAAEEGfKEU0TC//AA3SrnoofNgAAAAPAZ9HdEK/AB0LFYwhVutAAAAAEAGfSWpCvwAS2VyKvAFAcoEAAAAaQZtNSahBaJlMCG///qeEAA7Rxn+q4DH4t6AAAAARQZ9rRREsK/8ADEO0/6OSK48AAAAOAZ+MakK/AAxDtVzXrj0AAAAaQZuOSahBbJlMCHf//qmWAAu3yDNAH0f7FpEAAAAaQZuySeEKUmUwIb/+p4QAF191P3BTsJomfvEAAAAQQZ/QRTRML/8ADdKueih82AAAAA8Bn+90Qr8AHQsVjCFW60AAAAAQAZ/xakK/ABLZXIq8AUBygQAAABpBm/VJqEFomUwIb//+p4QADtHGf6rgMfi3oAAAABFBnhNFESwr/wAMQ7T/o5IrjwAAAA4BnjRqQr8ADEO1XNeuPQAAABpBmjZJqEFsmUwId//+qZYAC7fIM0AfR/sWkAAAABpBmlpJ4QpSZTAhv/6nhAAXX3U/cFOwmiZ+8QAAABBBnnhFNEwv/wAN0q56KHzZAAAADwGel3RCvwAdCxWMIVbrQAAAABABnplqQr8AEtlcirwBQHKBAAAAGkGanUmoQWiZTAhv//6nhAAO0cZ/quAx+LegAAAAEUGeu0URLCv/AAxDtP+jkiuPAAAADgGe3GpCvwAMQ7Vc1649AAAAGkGa3kmoQWyZTAh3//6plgALt8gzQB9H+xaQAAAAGkGa4knhClJlMCG//qeEABdfdT9wU7CaJn7wAAAAEEGfAEU0TC//AA3SrnoofNkAAAAPAZ8/dEK/AB0LFYwhVutAAAAAEAGfIWpCvwAS2VyKvAFAcoEAAAAaQZslSahBaJlMCG///qeEAA7Rxn+q4DH4t6AAAAARQZ9DRREsK/8ADEO0/6OSK48AAAAOAZ9kakK/AAxDtVzXrj0AAAAaQZtmSahBbJlMCHf//qmWAAu3yDNAH0f7FpEAAAAaQZuKSeEKUmUwIb/+p4QAF191P3BTsJomfvEAAAAQQZ+oRTRML/8ADdKueih82AAAAA8Bn8d0Qr8AHQsVjCFW60AAAAAQAZ/JakK/ABLZXIq8AUBygQAAABpBm81JqEFomUwIb//+p4QADtHGf6rgMfi3oAAAABFBn+tFESwr/wAMQ7T/o5IrjwAAAA4BngxqQr8ADEO1XNeuPQAAABpBmg5JqEFsmUwId//+qZYAC7fIM0AfR/sWkQAAABpBmjJJ4QpSZTAhv/6nhAAXX3U/cFOwmiZ+8QAAABBBnlBFNEwv/wAN0q56KHzYAAAADwGeb3RCvwAdCxWMIVbrQAAAABABnnFqQr8AEtlcirwBQHKBAAAAGkGadUmoQWiZTAhv//6nhAAO0cZ/quAx+LegAAAAEUGek0URLCv/AAxDtP+jkiuPAAAADgGetGpCvwAMQ7Vc1649AAAAGkGatkmoQWyZTAh3//6plgALt8gzQB9H+xaQAAAAGkGa2knhClJlMCG//qeEABdfdT9wU7CaJn7xAAAAEEGe+EU0TC//AA3SrnoofNkAAAAPAZ8XdEK/AB0LFYwhVutAAAAAEAGfGWpCvwAS2VyKvAFAcoEAAAAaQZsdSahBaJlMCG///qeEAA7Rxn+q4DH4t6AAAAARQZ87RREsK/8ADEO0/6OSK48AAAAOAZ9cakK/AAxDtVzXrj0AAAAaQZteSahBbJlMCHf//qmWAAu3yDNAH0f7FpAAAAAaQZtiSeEKUmUwIb/+p4QAF191P3BTsJomfvAAAAAQQZ+ARTRML/8ADdKueih82QAAAA8Bn790Qr8AHQsVjCFW60AAAAAQAZ+hakK/ABLZXIq8AUBygQAAABpBm6VJqEFomUwIb//+p4QADtHGf6rgMfi3oAAAABFBn8NFESwr/wAMQ7T/o5IrjwAAAA4Bn+RqQr8ADEO1XNeuPQAAABpBm+ZJqEFsmUwId//+qZYAC7fIM0AfR/sWkQAAABpBmgpJ4QpSZTAhv/6nhAAXX3U/cFOwmiZ+8QAAABBBnihFNEwv/wAN0q56KHzYAAAADwGeR3RCvwAdCxWMIVbrQAAAABABnklqQr8AEtlcirwBQHKBAAAAGkGaTUmoQWiZTAhv//6nhAAO0cZ/quAx+LegAAAAEUGea0URLCv/AAxDtP+jkiuPAAAADgGejGpCvwAMQ7Vc1649AAAAGkGajkmoQWyZTAh3//6plgALt8gzQB9H+xaRAAAAGkGasknhClJlMCG//qeEABdfdT9wU7CaJn7xAAAAEEGe0EU0TC//AA3SrnoofNgAAAAPAZ7vdEK/AB0LFYwhVutAAAAAEAGe8WpCvwAS2VyKvAFAcoEAAAAaQZr1SahBaJlMCG///qeEAA7Rxn+q4DH4t6AAAAARQZ8TRREsK/8ADEO0/6OSK48AAAAOAZ80akK/AAxDtVzXrj0AAAAaQZs2SahBbJlMCHf//qmWAAu3yDNAH0f7FpAAAAAaQZtaSeEKUmUwIb/+p4QAF191P3BTsJomfvEAAAAQQZ94RTRML/8ADdKueih82QAAAA8Bn5d0Qr8AHQsVjCFW60AAAAAQAZ+ZakK/ABLZXIq8AUBygQAAABpBm51JqEFomUwIb//+p4QADtHGf6rgMfi3oAAAABFBn7tFESwr/wAMQ7T/o5IrjwAAAA4Bn9xqQr8ADEO1XNeuPQAAABpBm95JqEFsmUwId//+qZYAC7fIM0AfR/sWkAAAABpBm+JJ4QpSZTAhv/6nhAAXX3U/cFOwmiZ+8AAAABBBngBFNEwv/wAN0q56KHzZAAAADwGeP3RCvwAdCxWMIVbrQAAAABABniFqQr8AEtlcirwBQHKBAAAAGkGaJUmoQWiZTAhv//6nhAAO0cZ/quAx+LegAAAAEUGeQ0URLCv/AAxDtP+jkiuPAAAADgGeZGpCvwAMQ7Vc1649AAAAGkGaZkmoQWyZTAh3//6plgALt8gzQB9H+xaRAAAAGkGaiknhClJlMCG//qeEABdfdT9wU7CaJn7xAAAAEEGeqEU0TC//AA3SrnoofNgAAAAPAZ7HdEK/AB0LFYwhVutAAAAAEAGeyWpCvwAS2VyKvAFAcoEAAAAaQZrNSahBaJlMCG///qeEAA7Rxn+q4DH4t6AAAAARQZ7rRREsK/8ADEO0/6OSK48AAAAOAZ8MakK/AAxDtVzXrj0AAAAaQZsOSahBbJlMCHf//qmWAAu3yDNAH0f7FpEAAAAaQZsySeEKUmUwIb/+p4QAF191P3BTsJomfvEAAAAQQZ9QRTRML/8ADdKueih82AAAAA8Bn290Qr8AHQsVjCFW60AAAAAQAZ9xakK/ABLZXIq8AUBygQAAABpBm3VJqEFomUwIb//+p4QADtHGf6rgMfi3oAAAABFBn5NFESwr/wAMQ7T/o5IrjwAAAA4Bn7RqQr8ADEO1XNeuPQAAABpBm7ZJqEFsmUwId//+qZYAC7fIM0AfR/sWkAAAABpBm9pJ4QpSZTAhv/6nhAAXX3U/cFOwmiZ+8QAAABBBn/hFNEwv/wAN0q56KHzZAAAADwGeF3RCvwAdCxWMIVbrQAAAABABnhlqQr8AEtlcirwBQHKBAAAAGkGaHUmoQWiZTAhv//6nhAAO0cZ/quAx+LegAAAAEUGeO0URLCv/AAxDtP+jkiuPAAAADgGeXGpCvwAMQ7Vc1649AAAAGkGaXkmoQWyZTAh3//6plgALt8gzQB9H+xaQAAAAGkGaYknhClJlMCG//qeEABdfdT9wU7CaJn7wAAAAEEGegEU0TC//AA3SrnoofNkAAAAPAZ6/dEK/AB0LFYwhVutAAAAAEAGeoWpCvwAS2VyKvAFAcoEAAAAaQZqlSahBaJlMCG///qeEAA7Rxn+q4DH4t6AAAAARQZ7DRREsK/8ADEO0/6OSK48AAAAOAZ7kakK/AAxDtVzXrj0AAAAaQZrmSahBbJlMCHf//qmWAAu3yDNAH0f7FpEAAAAaQZsKSeEKUmUwIb/+p4QAF191P3BTsJomfvEAAAAQQZ8oRTRML/8ADdKueih82AAAAA8Bn0d0Qr8AHQsVjCFW60AAAAAQAZ9JakK/ABLZXIq8AUBygQAAABpBm01JqEFomUwIb//+p4QADtHGf6rgMfi3oAAAABFBn2tFESwr/wAMQ7T/o5IrjwAAAA4Bn4xqQr8ADEO1XNeuPQAAABpBm45JqEFsmUwId//+qZYAC7fIM0AfR/sWkQAAABpBm7JJ4QpSZTAhv/6nhAAXX3U/cFOwmiZ+8QAAABBBn9BFNEwv/wAN0q56KHzYAAAADwGf73RCvwAdCxWMIVbrQAAAABABn/FqQr8AEtlcirwBQHKBAAAAGkGb9UmoQWiZTAhv//6nhAAO0cZ/quAx+LegAAAAEUGeE0URLCv/AAxDtP+jkiuPAAAADgGeNGpCvwAMQ7Vc1649AAAAGkGaNkmoQWyZTAh3//6plgALt8gzQB9H+xaQAAAAGkGaWknhClJlMCG//qeEABdfdT9wU7CaJn7xAAAAEEGeeEU0TC//AA3SrnoofNkAAAAPAZ6XdEK/AB0LFYwhVutAAAAAEAGemWpCvwAS2VyKvAFAcoEAAAAaQZqdSahBaJlMCG///qeEAA7Rxn+q4DH4t6AAAAARQZ67RREsK/8ADEO0/6OSK48AAAAOAZ7cakK/AAxDtVzXrj0AAAAaQZreSahBbJlMCG///qeEABc/RP9VwGPxR8AAAAAaQZriSeEKUmUwIb/+p4QAF191P3BTsJomfvAAAAAQQZ8ARTRML/8ADdKueih82QAAAA8Bnz90Qr8AHQsVjCFW60AAAAAQAZ8hakK/ABLZXIq8AUBygQAAABlBmyVJqEFomUwIZ//+nhAAOeU45/DsJ9eTAAAAEUGfQ0URLCv/AAxDtP+jkiuPAAAADgGfZGpCvwAMQ7Vc1649AAAAGUGbZkmoQWyZTAhn//6eEABauDHP4dhPrjMAAAAaQZuJS+EIQpSRGCCgH8gH9h4AhX/+OEAAEXEAAAAmQZ+nRTRMK/8Cr2PtQcTdqsNJJuWqhgcstbvNLXLH5scAd/uFbYAAAAAjAZ/IakK/Aq9j7UHE3arDSSblqoYHLLW7zURbmzavqLOMf2AAAAvAbW9vdgAAAGxtdmhkAAAAAAAAAAAAAAAAAAAD6AAAH5AAAQAAAQAAAAAAAAAAAAAAAAEAAAAAAAAAAAAAAAAAAAABAAAAAAAAAAAAAAAAAABAAAAAAAAAAAAAAAAAAAAAAAAAAAAAAAAAAAAAAAAAAgAACup0cmFrAAAAXHRraGQAAAADAAAAAAAAAAAAAAABAAAAAAAAH5AAAAAAAAAAAAAAAAAAAAAAAAEAAAAAAAAAAAAAAAAAAAABAAAAAAAAAAAAAAAAAABAAAAAARAAAAEQAAAAAAAkZWR0cwAAABxlbHN0AAAAAAAAAAEAAB+QAAAEAAABAAAAAApibWRpYQAAACBtZGhkAAAAAAAAAAAAAAAAAAAyAAABlABVxAAAAAAALWhkbHIAAAAAAAAAAHZpZGUAAAAAAAAAAAAAAABWaWRlb0hhbmRsZXIAAAAKDW1pbmYAAAAUdm1oZAAAAAEAAAAAAAAAAAAAACRkaW5mAAAAHGRyZWYAAAAAAAAAAQAAAAx1cmwgAAAAAQAACc1zdGJsAAAAlXN0c2QAAAAAAAAAAQAAAIVhdmMxAAAAAAAAAAEAAAAAAAAAAAAAAAAAAAAAARABEABIAAAASAAAAAAAAAABAAAAAAAAAAAAAAAAAAAAAAAAAAAAAAAAAAAAAAAAAAAAGP//AAAAL2F2Y0MB9AAN/+EAF2f0AA2RmygiEdCAAAADAIAAABkHihTLAQAFaOvjxEgAAAAYc3R0cwAAAAAAAAABAAAAygAAAgAAAAAUc3RzcwAAAAAAAAABAAAAAQAABZhjdHRzAAAAAAAAALEAAAABAAAEAAAAAAEAAAYAAAAAAQAAAgAAAAABAAAKAAAAAAEAAAQAAAAAAQAAAAAAAAABAAACAAAAAAEAAAQAAAAAAQAABgAAAAABAAACAAAAAAEAAAQAAAAAAQAABgAAAAABAAACAAAAAAEAAAYAAAAAAQAAAgAAAAABAAAKAAAAAAEAAAQAAAAAAQAAAAAAAAABAAACAAAAAAEAAAoAAAAAAQAABAAAAAABAAAAAAAAAAEAAAIAAAAAAgAABAAAAAABAAAKAAAAAAEAAAQAAAAAAQAAAAAAAAABAAACAAAAAAEAAAgAAAAAAgAAAgAAAAABAAAIAAAAAAIAAAIAAAAAAQAACAAAAAACAAACAAAAAAEAAAQAAAAAAQAACgAAAAABAAAEAAAAAAEAAAAAAAAAAQAAAgAAAAABAAAIAAAAAAIAAAIAAAAAAQAABAAAAAABAAAKAAAAAAEAAAQAAAAAAQAAAAAAAAABAAACAAAAAAEAAAgAAAAAAgAAAgAAAAABAAAEAAAAAAEAAAoAAAAAAQAABAAAAAABAAAAAAAAAAEAAAIAAAAAAQAACAAAAAACAAACAAAAAAEAAAQAAAAAAQAACgAAAAABAAAEAAAAAAEAAAAAAAAAAQAAAgAAAAABAAAIAAAAAAIAAAIAAAAAAQAABAAAAAABAAAKAAAAAAEAAAQAAAAAAQAAAAAAAAABAAACAAAAAAEAAAgAAAAAAgAAAgAAAAABAAAEAAAAAAEAAAoAAAAAAQAABAAAAAABAAAAAAAAAAEAAAIAAAAAAQAACAAAAAACAAACAAAAAAEAAAQAAAAAAQAACgAAAAABAAAEAAAAAAEAAAAAAAAAAQAAAgAAAAABAAAIAAAAAAIAAAIAAAAAAQAABAAAAAABAAAKAAAAAAEAAAQAAAAAAQAAAAAAAAABAAACAAAAAAEAAAgAAAAAAgAAAgAAAAABAAAEAAAAAAEAAAoAAAAAAQAABAAAAAABAAAAAAAAAAEAAAIAAAAAAQAACAAAAAACAAACAAAAAAEAAAQAAAAAAQAACgAAAAABAAAEAAAAAAEAAAAAAAAAAQAAAgAAAAABAAAIAAAAAAIAAAIAAAAAAQAABAAAAAABAAAKAAAAAAEAAAQAAAAAAQAAAAAAAAABAAACAAAAAAEAAAgAAAAAAgAAAgAAAAABAAAEAAAAAAEAAAoAAAAAAQAABAAAAAABAAAAAAAAAAEAAAIAAAAAAQAACAAAAAACAAACAAAAAAEAAAQAAAAAAQAACgAAAAABAAAEAAAAAAEAAAAAAAAAAQAAAgAAAAABAAAIAAAAAAIAAAIAAAAAAQAABAAAAAABAAAKAAAAAAEAAAQAAAAAAQAAAAAAAAABAAACAAAAAAEAAAgAAAAAAgAAAgAAAAABAAAEAAAAAAEAAAoAAAAAAQAABAAAAAABAAAAAAAAAAEAAAIAAAAAAQAACAAAAAACAAACAAAAAAEAAAQAAAAAAQAACgAAAAABAAAEAAAAAAEAAAAAAAAAAQAAAgAAAAABAAAIAAAAAAIAAAIAAAAAAQAABAAAAAABAAAKAAAAAAEAAAQAAAAAAQAAAAAAAAABAAACAAAAAAEAAAgAAAAAAgAAAgAAAAABAAAEAAAAAAEAAAoAAAAAAQAABAAAAAABAAAAAAAAAAEAAAIAAAAAAQAACAAAAAACAAACAAAAAAEAAAQAAAAAAQAACgAAAAABAAAEAAAAAAEAAAAAAAAAAQAAAgAAAAABAAAIAAAAAAIAAAIAAAAAAQAABAAAAAABAAAKAAAAAAEAAAQAAAAAAQAAAAAAAAABAAACAAAAAAEAAAgAAAAAAgAAAgAAAAABAAAEAAAAAAEAAAgAAAAAAgAAAgAAAAAcc3RzYwAAAAAAAAABAAAAAQAAAMoAAAABAAADPHN0c3oAAAAAAAAAAAAAAMoAAAXkAAAAHQAAABMAAAAeAAAAFAAAABMAAAAUAAAAHQAAACMAAAAUAAAAHQAAACMAAAAUAAAAIAAAABMAAAAmAAAAGgAAABMAAAAUAAAAGwAAABIAAAAUAAAAEwAAAB4AAAAdAAAAIAAAABUAAAATAAAAFAAAACAAAAAWAAAAEgAAAB0AAAAWAAAAEgAAAB4AAAAVAAAAEgAAAB4AAAAeAAAAFAAAABMAAAAUAAAAHgAAABUAAAASAAAAHgAAAB4AAAAUAAAAEwAAABQAAAAeAAAAFQAAABIAAAAeAAAAHgAAABQAAAATAAAAFAAAAB4AAAAVAAAAEgAAAB4AAAAeAAAAFAAAABMAAAAUAAAAHgAAABUAAAASAAAAHgAAAB4AAAAUAAAAEwAAABQAAAAeAAAAFQAAABIAAAAeAAAAHgAAABQAAAATAAAAFAAAAB4AAAAVAAAAEgAAAB4AAAAeAAAAFAAAABMAAAAUAAAAHgAAABUAAAASAAAAHgAAAB4AAAAUAAAAEwAAABQAAAAeAAAAFQAAABIAAAAeAAAAHgAAABQAAAATAAAAFAAAAB4AAAAVAAAAEgAAAB4AAAAeAAAAFAAAABMAAAAUAAAAHgAAABUAAAASAAAAHgAAAB4AAAAUAAAAEwAAABQAAAAeAAAAFQAAABIAAAAeAAAAHgAAABQAAAATAAAAFAAAAB4AAAAVAAAAEgAAAB4AAAAeAAAAFAAAABMAAAAUAAAAHgAAABUAAAASAAAAHgAAAB4AAAAUAAAAEwAAABQAAAAeAAAAFQAAABIAAAAeAAAAHgAAABQAAAATAAAAFAAAAB4AAAAVAAAAEgAAAB4AAAAeAAAAFAAAABMAAAAUAAAAHgAAABUAAAASAAAAHgAAAB4AAAAUAAAAEwAAABQAAAAeAAAAFQAAABIAAAAeAAAAHgAAABQAAAATAAAAFAAAAB4AAAAVAAAAEgAAAB4AAAAeAAAAFAAAABMAAAAUAAAAHgAAABUAAAASAAAAHgAAAB4AAAAUAAAAEwAAABQAAAAdAAAAFQAAABIAAAAdAAAAHgAAACoAAAAnAAAAFHN0Y28AAAAAAAAAAQAAADAAAABidWR0YQAAAFptZXRhAAAAAAAAACFoZGxyAAAAAAAAAABtZGlyYXBwbAAAAAAAAAAAAAAAAC1pbHN0AAAAJal0b28AAAAdZGF0YQAAAAEAAAAATGF2ZjU4LjIwLjEwMA==\" type=\"video/mp4\" />\n",
       "             </video>"
      ],
      "text/plain": [
       "<IPython.core.display.HTML object>"
      ]
     },
     "execution_count": 27,
     "metadata": {},
     "output_type": "execute_result"
    }
   ],
   "source": [
    "HTML(display_videos('cnn_test_explore6.mp4'))"
   ]
  },
  {
   "cell_type": "markdown",
   "metadata": {},
   "source": [
    "### Remark : \n",
    "Results are on average much better than without the exploration penality. The player explores a wider part of the map, even if some parts may remain unexplored. \n",
    "However, the player migtht *in fine* still oscillate, but it is due to the fact that he explored all he could."
   ]
  },
  {
   "cell_type": "markdown",
   "metadata": {},
   "source": [
    "***\n",
    "***\n",
    "__BONUS question__ Use the expert DQN from the previous question to generate some winning games. Train a model that mimicks its behavior. Compare the performances."
   ]
  },
  {
   "cell_type": "markdown",
   "metadata": {},
   "source": [
    "***"
   ]
  }
 ],
 "metadata": {
  "kernelspec": {
   "display_name": "Python 3",
   "language": "python",
   "name": "python3"
  },
  "language_info": {
   "codemirror_mode": {
    "name": "ipython",
    "version": 3
   },
   "file_extension": ".py",
   "mimetype": "text/x-python",
   "name": "python",
   "nbconvert_exporter": "python",
   "pygments_lexer": "ipython3",
   "version": "3.6.7"
  }
 },
 "nbformat": 4,
 "nbformat_minor": 2
}
